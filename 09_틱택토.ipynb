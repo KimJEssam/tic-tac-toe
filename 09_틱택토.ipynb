{
  "nbformat": 4,
  "nbformat_minor": 0,
  "metadata": {
    "colab": {
      "provenance": [],
      "authorship_tag": "ABX9TyN0lXI6dw2PGbk320yRS2TM",
      "include_colab_link": true
    },
    "kernelspec": {
      "name": "python3",
      "display_name": "Python 3"
    },
    "language_info": {
      "name": "python"
    }
  },
  "cells": [
    {
      "cell_type": "markdown",
      "metadata": {
        "id": "view-in-github",
        "colab_type": "text"
      },
      "source": [
        "<a href=\"https://colab.research.google.com/github/KimJEssam/tic-tac-toe/blob/main/09_%ED%8B%B1%ED%83%9D%ED%86%A0.ipynb\" target=\"_parent\"><img src=\"https://colab.research.google.com/assets/colab-badge.svg\" alt=\"Open In Colab\"/></a>"
      ]
    },
    {
      "cell_type": "markdown",
      "source": [
        "\n",
        "\n",
        "```\n",
        "# 코드로 형식 지정됨\n",
        "```\n",
        "\n",
        "#**Stage9. 컴퓨터와 대결**\n",
        "---\n",
        "\n",
        "\n",
        "<img src=\"https://github.com/KimJEssam/firstTest/blob/main/%EC%BD%94%EB%94%A9%EC%9D%80%20%EC%82%AC%EA%B3%A0%EC%9D%98%20%EB%B2%94%EC%9C%84%EB%A5%BC.png?raw=true\" width=500>"
      ],
      "metadata": {
        "id": "uprygpfSFQLi"
      }
    },
    {
      "cell_type": "markdown",
      "source": [
        "이번 스테이지부터 컴퓨터와 틱택토 게임을 진행해보려 합니다. [플레이어-컴퓨터 대결 버전]도 여러 단계를 거쳐 구현해봅시다.\n"
      ],
      "metadata": {
        "id": "lT6hDlrfHg7R"
      }
    },
    {
      "cell_type": "markdown",
      "source": [
        "먼저 컴퓨터와 플레이어가 게임을 진행만 할 수 있도록 구현해볼까요? 아직 컴퓨터는 똑똑하지 못하니 앞에서부터 순서대로 찾아서 빈 자리에 두고, 공정하지 못하지만 플레이어가 먼저 두도록 합니다.\n",
        "\n",
        "\n",
        "---\n",
        "\n"
      ],
      "metadata": {
        "id": "261fRl2-LL_K"
      }
    },
    {
      "cell_type": "markdown",
      "source": [
        "**1. 상수화된 변수**"
      ],
      "metadata": {
        "id": "bwZRqyUyu7Sy"
      }
    },
    {
      "cell_type": "markdown",
      "source": [
        "아래 예제는 반지름을 입력받아 원의 둘레를 계산하는 프로그램입니다. 여기에서 PI는 파이값을 저장해둔 변수로, 둘레 계산에 사용합니다. 어차피 파이값은 변하지 않는 상수 값이니 둘레 계산식에 3.141592를 직접 넣는 것보다 좀더 직관적인 코드를 작성할 수 있죠."
      ],
      "metadata": {
        "id": "-DqbDYz4LgjE"
      }
    },
    {
      "cell_type": "markdown",
      "source": [
        "다른 프로그래밍 언어에서는 파이값과 같은 값을 상수 변수에 따로 선언 및 저장하여 사용하지만, 파이썬에서는 단지 변수 이름을 대문자로 짓는 것만으로 상수 변수라고 인식합니다. 물론 프로그램 안에서 이 변수의 값을 변경해도 오류가 발생하지 않지만, 변수 이름 전체가 대문자인 변수는 한 번 정해진 값을 변경하지 않도록 주의할 수 있습니다. 일종의 파이썬 유저 사이 약속이라 생각해주세요."
      ],
      "metadata": {
        "id": "kuf8N2hgLku1"
      }
    },
    {
      "cell_type": "markdown",
      "source": [
        "*실행 결과를 확인해보세요!*"
      ],
      "metadata": {
        "id": "JIxj9ur0LpcL"
      }
    },
    {
      "cell_type": "code",
      "source": [
        "PI = 3.14159265359\n",
        "radius = float(input('반지름을 입력하세요. ')) #float 함수는 문자열을 실수로 변환해줍니다.\n",
        "print('원의 둘레:', 2 * PI * radius)"
      ],
      "metadata": {
        "id": "RpNw9kESuPNY"
      },
      "execution_count": null,
      "outputs": []
    },
    {
      "cell_type": "markdown",
      "source": [
        "**2. 개수 세기**"
      ],
      "metadata": {
        "id": "3vOMFJBDLtKC"
      }
    },
    {
      "cell_type": "markdown",
      "source": [
        "리스트에 포함된 특정 값의 개수를 세려면 어떻게 해야 할까요? 리스트 객체에는 많은 메서드(함수)가 있습니다. 그 중 count는 리스트 중 인수로 넘긴 값이 몇 개인지 세어주는 함수입니다."
      ],
      "metadata": {
        "id": "IrFikBI4LzrC"
      }
    },
    {
      "cell_type": "markdown",
      "source": [
        "아래 예제를 실행해서 count 메서드가 어떤 값을 리턴하는지 확인하세요."
      ],
      "metadata": {
        "id": "pH_AHc_tL2Zh"
      }
    },
    {
      "cell_type": "markdown",
      "source": [
        "*실행 결과를 확인해보세요!*"
      ],
      "metadata": {
        "id": "s0F8PJeNL6-D"
      }
    },
    {
      "cell_type": "code",
      "source": [
        "sampleList = ['A', 'C', 'A', 'F', 'B', 'A', 'B', 'C']\n",
        "print(sampleList.count('A'))"
      ],
      "metadata": {
        "id": "72O335CfLWwV"
      },
      "execution_count": null,
      "outputs": []
    },
    {
      "cell_type": "markdown",
      "source": [
        "컴퓨터와 대결할 수 있는 틱택토 게임 구현을 시작해보세요."
      ],
      "metadata": {
        "id": "rUyYmosZu2HB"
      }
    },
    {
      "cell_type": "markdown",
      "source": [
        "**실습내용**"
      ],
      "metadata": {
        "id": "m38zS1A0xTJH"
      }
    },
    {
      "cell_type": "markdown",
      "source": [
        "[컴퓨터와의 대결 버전] 첫 번째 단계입니다. 아래 설명과 실행 예시를 참고해서 코드를 완성하세요.\n",
        "\n",
        "1. 플레이어와 컴퓨터가 번갈아 둡니다. 플레이어는 'O', 컴퓨터는 'X'를 두고, 불공평하지만 무조건 플레이어가 먼저 두게 합니다.\n",
        "2. 컴퓨터는 앞에서부터 순서대로 빈자리를 찾아 두게 합니다.\n",
        "3. 프로그램을 종료하기 전에 게임 전적을 '1승 1무 1패'와 같은 형식으로 출력합니다.\n",
        "4.  **게임 안내는 첫 게임 전에 한 번만 출력되도록 수정합니다.**\n",
        "5.내용은 이전 스테이지와 동일합니다.\n",
        "\n",
        "\n"
      ],
      "metadata": {
        "id": "R2yZFMEoxYmt"
      }
    },
    {
      "cell_type": "markdown",
      "source": [
        "실행화면 예시"
      ],
      "metadata": {
        "id": "RqF5DCpPVTbM"
      }
    },
    {
      "cell_type": "markdown",
      "source": [
        "<img src =\"https://github.com/KimJEssam/tic-tac-toe/blob/main/stage9-1.png?raw=true\" width=900>\n",
        "<img src =\"https://github.com/KimJEssam/tic-tac-toe/blob/main/stage9-2.png?raw=true\" width=900>\n",
        "<img src =\"https://github.com/KimJEssam/tic-tac-toe/blob/main/stage9-3.png?raw=true\" width=900>\n",
        "<img src =\"https://github.com/KimJEssam/tic-tac-toe/blob/main/stage9-4.png?raw=true\" width=900>"
      ],
      "metadata": {
        "id": "Df0VE96oierQ"
      }
    },
    {
      "cell_type": "markdown",
      "source": [
        "**프로그램** "
      ],
      "metadata": {
        "id": "-I9OK0atqmV5"
      }
    },
    {
      "cell_type": "markdown",
      "source": [
        "<img src =\"https://github.com/KimJEssam/tic-tac-toe/blob/main/stage9-5.png?raw=true\" width=1024>\n",
        "<img src =\"https://github.com/KimJEssam/tic-tac-toe/blob/main/stage9-6.png?raw=true\" width=1024>\n",
        "<img src =\"https://github.com/KimJEssam/tic-tac-toe/blob/main/stage9-7.png?raw=true\" width=1024>\n",
        "<img src =\"https://github.com/KimJEssam/tic-tac-toe/blob/main/stage9-8.png?raw=true\" width=1024>\n",
        "<img src =\"https://github.com/KimJEssam/tic-tac-toe/blob/main/stage9-9.png?raw=true\" width=1024>"
      ],
      "metadata": {
        "id": "37bmyHkl0FXW"
      }
    },
    {
      "cell_type": "markdown",
      "source": [
        "실행예시를 참고해서 @@@@@@@@@@을 완성하세요.\n"
      ],
      "metadata": {
        "id": "e4kveHs9XikU"
      }
    },
    {
      "cell_type": "code",
      "source": [
        "#'O'와 'X'를 좀더 이해하기 쉽게 PLAYER_STONE과 COMPUTER_STONE 변수에 넣어 사용함\n",
        "PLAYER_STONE = 'O'\n",
        "COMPUTER_STONE = 'X'\n",
        "\n",
        "#게임에 관해 안내한다.\n",
        "def printInfo():\n",
        "\tprint(\"[Player-Computer Version]\")\n",
        "\tprint(\"틱택토(tic-tac-toe) 두 명이 번갈아가며 'O'와 'X'를 3×3 판에 써서 같은 글자를 가로, 세로, 혹은 대각선 상에 놓이도록 하는 놀이입니다.\")\n",
        "\tprint(\"플레이어는 'O', 컴퓨터는 'X'를 사용합니다.\")\n",
        "\tprint(\"위치 선택은 아래와 같이 키보드의 숫자 키패드를 이용하세요.\")\n",
        "\tprint(\"---------\")\n",
        "\tprint(\"| 7 8 9 |\")\n",
        "\tprint(\"| 4 5 6 |\")\n",
        "\tprint(\"| 1 2 3 |\")\n",
        "\tprint(\"---------\")\n",
        "\n",
        "\n",
        "#보드의 내용을 화면에 출력한다.\n",
        "def drawBoard(board):\n",
        "\tprint(\"---------\")\n",
        "\tprint(\"|\", board[7], board[8], board[9], \"|\")\n",
        "\tprint(\"|\", board[4], board[5], board[6], \"|\")\n",
        "\tprint(\"|\", board[1], board[2], board[3], \"|\")\n",
        "\tprint(\"---------\")  \n",
        "\n",
        "  \n",
        "#플레이어로부터 위치를 입력받는다.\n",
        "def getPlayerMove(board, stone):\n",
        "\twhile True:\n",
        "\t\tinData = input('위치를 선택하세요. ')\n",
        "\t\tif len(inData) == 1 and '1' <= inData <= '9':\n",
        "\t\t\tpos = int(inData)  \n",
        "\t\t\tif board[pos] == '-':\n",
        "\t\t\t\tboard[pos] = stone\n",
        "\t\t\t\tbreak\n",
        "\t\tprint('잘못 선택하셨습니다. 비어있는 칸을 숫자로 입력하세요.')\n",
        "\n",
        "\n",
        "#컴퓨터가 위치를 선택하게 한다.\n",
        "def getComputerMove(board, stone):\n",
        "\tprint('컴퓨터가 둡니다.')\n",
        "\t\n",
        "\t#아직 컴퓨터는 앞에서부터 빈자리를 찾아 둡니다.\n",
        "\tfor i in range(1, 10):\n",
        "\t\tif '''@@@@@@@@@@''':\n",
        "\t\t\tboard[i] = stone\n",
        "\t\t\t'''@@@@@@@@@@'''\n",
        "\n",
        "\n",
        "#보드에 놓여진 돌의 개수를 리턴한다.\n",
        "def numberOfStone(board):\n",
        "\tn = 0\n",
        "\tfor c in board:\n",
        "\t\tif c != '-':\n",
        "\t\t\tn = n + 1\n",
        "\treturn n\n",
        "\n",
        "\n",
        "#보드에서 stone('O' 또는 'X')가 연속해서 3개 놓여졌는지 여부(True 또는 False)를 리턴한다.\n",
        "def isWinner(board, stone):\n",
        "\n",
        "\t#가로 세 행 확인\n",
        "\tfor i in [1, 4, 7]:\n",
        "\t\tif board[i] == stone and board[i + 1] == stone and board[i + 2] == stone:\n",
        "\t\t\treturn True\n",
        "\n",
        "\t#세로 세 열 확인\n",
        "\tfor i in [1, 2, 3]:\n",
        "\t\tif board[i] == stone and board[i + 3] == stone and board[i + 6] == stone:\n",
        "\t\t\treturn True\n",
        "\n",
        "\t#대각선(오른쪽 위에서 왼쪽 아래)\n",
        "\tif board[1] == stone and board[5] == stone and board[9] == stone:\n",
        "\t\treturn True\n",
        "\n",
        "\t#대각선(왼쪽 위에서 오른쪽 아래)\n",
        "\tif board[7] == stone and board[5] == stone and board[3] == stone:\n",
        "\t\treturn True\n",
        "\n",
        "\treturn False\n",
        "\n",
        "\n",
        "#틱택토 1게임을 진행합니다.\n",
        "def ticTacToe():\n",
        "\tprintInfo()  '''@@@@@@@@@@''' #첫 게임 전 한번만 실행되도록 이 문장을 옮기세요!!!!!!!!!\n",
        "\t\n",
        "\t#빈 틱택토 보드를 표현하기 위해서 '-'로 10개의 요소를 채운 리스트를 만듭니다.\n",
        "\t#위치 정보와 리스트의 인덱스를 일치시키기 위해 10개의 요소를 채우고, 이후에 맨 앞(인덱스 0) 요소는 사용하지 않습니다.\n",
        "\ttttBoard = ['-'] * 10\n",
        "\n",
        "\tdrawBoard(tttBoard)\n",
        "\t\n",
        "\tprint('플레이어부터 시작합니다.')\n",
        "\t\n",
        "\twhile True:\n",
        "\t\tgetPlayerMove(tttBoard, PLAYER_STONE)  \n",
        "\t\tdrawBoard(tttBoard)\n",
        "\t\t\n",
        "\t\tif isWinner(tttBoard, PLAYER_STONE):\n",
        "\t\t\tprint(\"축하합니다. 당신이 이겼어요!\")\n",
        "\t\t\treturn PLAYER_STONE\n",
        "\t\t\n",
        "\t\tif numberOfStone(tttBoard) >= 9:\n",
        "\t\t\tprint(\"비겼습니다.\")\n",
        "\t\t\treturn '-'\n",
        "\t\t\t\n",
        "\t\t'''@@@@@@@@@@'''      #컴퓨터가 두도록 함수를 호출하세요!\n",
        "\t\tdrawBoard(tttBoard)\n",
        "\t\t\n",
        "\t\tif '''@@@@@@@@@''':    #컴퓨터가 이겼는지 확인하는 구문을 넣으세요!\n",
        "\t\t\tprint(\"아쉽군요. 컴퓨터가 이겼습니다.\")\n",
        "\t\t\treturn COMPUTER_STONE\n",
        "\t\t\t\n",
        "\t\tif numberOfStone(tttBoard) >= 9:\n",
        "\t\t\tprint(\"비겼습니다.\")\n",
        "\t\t\treturn '-'\n",
        "\n",
        "\n",
        "\n",
        "resultList = []\n",
        "\n",
        "while True:\n",
        "\tresult = ticTacToe()\n",
        "\tresultList.append(result)\n",
        "\t\n",
        "\tisContinued = input(\"한 게임 더 진행할까요?(y/n) \")\n",
        "\tif isContinued == 'n':\n",
        "\t\tbreak\n",
        "\n",
        "print('\\n[게임 전적]')\n",
        "print(resultList.count(PLAYER_STONE), '승 ', '''@@@@@@@@@''', '무 ', '''@@@@@@@@@@''', '패', sep = '')"
      ],
      "metadata": {
        "id": "EB92YwB7qaYX"
      },
      "execution_count": null,
      "outputs": []
    }
  ]
}