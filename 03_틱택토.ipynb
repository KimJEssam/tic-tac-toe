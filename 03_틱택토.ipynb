{
  "nbformat": 4,
  "nbformat_minor": 0,
  "metadata": {
    "colab": {
      "provenance": [],
      "authorship_tag": "ABX9TyNDZKNSmQAdtZK7pjjkFtMJ",
      "include_colab_link": true
    },
    "kernelspec": {
      "name": "python3",
      "display_name": "Python 3"
    },
    "language_info": {
      "name": "python"
    }
  },
  "cells": [
    {
      "cell_type": "markdown",
      "metadata": {
        "id": "view-in-github",
        "colab_type": "text"
      },
      "source": [
        "<a href=\"https://colab.research.google.com/github/KimJEssam/tic-tac-toe/blob/main/03_%ED%8B%B1%ED%83%9D%ED%86%A0.ipynb\" target=\"_parent\"><img src=\"https://colab.research.google.com/assets/colab-badge.svg\" alt=\"Open In Colab\"/></a>"
      ]
    },
    {
      "cell_type": "markdown",
      "source": [
        "#**Stage3.두 플레이어의 등장**\n",
        "---\n",
        "\n",
        "\n",
        "<img src=\"https://github.com/KimJEssam/firstTest/blob/f7558fe830e54b8c91c776d9e82c19a26ec48d7b/000%20%EC%9D%B8%EC%83%9D%EC%9D%80%20%EC%A7%A7%EA%B3%A0%20%EB%8B%B9%EC%8B%A0%EC%9D%80%20%ED%8C%8C%EC%9D%B4%EC%8D%AC%EC%9D%B4%20%ED%95%84%EC%9A%94%ED%95%98%EB%8B%A4.png?raw=true\" width=300>"
      ],
      "metadata": {
        "id": "uprygpfSFQLi"
      }
    },
    {
      "cell_type": "markdown",
      "source": [
        "게임은 누군가와 대결을 하는 재미가 있어야 하죠? 이번에는 두 플레이어가 번갈아 가며 보드의 위치를 반복 선택하도록 구현해보려 합니다. 그 전에 먼저 필요한 개념을 살펴봅시다."
      ],
      "metadata": {
        "id": "lT6hDlrfHg7R"
      }
    },
    {
      "cell_type": "markdown",
      "source": [
        "**1. 반복문**"
      ],
      "metadata": {
        "id": "bwZRqyUyu7Sy"
      }
    },
    {
      "cell_type": "markdown",
      "source": [
        "### 반복 실행을 구현하고 싶다면 for구문과 while구문을 활용할 수 있습니다\n",
        "---\n",
        "**for**구문은 **in** 뒤에 적힌 객체의 각 항목을 **in** 앞에 적힌 변수에 넣은 뒤, **for** 내부 블록을 반복 실행하는 형태로 동작합니다. 반복 실행 대상인 for의 내부 블록은 반드시 들여쓰기로 구분해 주어야 합니다. 또한, 내부 블록에서 **continue**를 만나면 뒷 내용을 진행하기 않고 바로 시작 부분으로 이동하여 다음 단계를 진행하고, **break**를 만나면 **for** 구문을 완전히 빠져 나갑니다."
      ],
      "metadata": {
        "id": "rUyYmosZu2HB"
      }
    },
    {
      "cell_type": "markdown",
      "source": [
        "<img src=\"https://github.com/KimJEssam/tic-tac-toe/blob/main/stage3-1.png?raw=true\" width=300>"
      ],
      "metadata": {
        "id": "fCRUexAy9NuU"
      }
    },
    {
      "cell_type": "markdown",
      "source": [
        "**for** 구문을 활용한 아래 두 예제를 실행해서 결과를 확인해 보세요. **continue**와 **break**에 대한 예시는 다음 개념과 함께 살펴보겠습니다."
      ],
      "metadata": {
        "id": "ToYsx8FdvlJe"
      }
    },
    {
      "cell_type": "markdown",
      "source": [
        "*실행 결과를 확인해 보세요!*"
      ],
      "metadata": {
        "id": "AToZ05BS9x73"
      }
    },
    {
      "cell_type": "code",
      "source": [
        "for fruit in ['apple', 'grape', 'orange']:\n",
        "\tprint(fruit) #들여쓰기"
      ],
      "metadata": {
        "id": "AzL7rHlv91VX"
      },
      "execution_count": null,
      "outputs": []
    },
    {
      "cell_type": "markdown",
      "source": [
        " ['apple', 'grape', 'orange']는 리스트입니다. 리스트는 여러 개의 데이터를 묶어서 관리할 수 있는 데이터 구조 중 하나이며 가장 보편적으로 사용됩니다. 대괄호 안에 원하는 수의 항목들을 콤마로 구분해 넣어 생성할 수 있고, 항목들을 변경/추가/삭제할 수 있습니다. 리스트에 대한 내용은 다음 스테이지에서 더 자세히 살펴보겠습니다."
      ],
      "metadata": {
        "id": "o81aMuon95Qm"
      }
    },
    {
      "cell_type": "markdown",
      "source": [
        "*실행 결과를 확인해 보세요!*"
      ],
      "metadata": {
        "id": "1yDbAnXz-Pl-"
      }
    },
    {
      "cell_type": "code",
      "source": [
        "for i in range(1, 7, 2):\n",
        "\tprint(i) #들여쓰기"
      ],
      "metadata": {
        "id": "b-Rqew4bvhe9"
      },
      "execution_count": null,
      "outputs": []
    },
    {
      "cell_type": "markdown",
      "source": [
        "**range()** 함수는 일정한 규칙을 가진 여러 개의 숫자 묶음을 생성하는 함수입니다. \n",
        "\n",
        "---\n",
        "\n",
        "\n",
        "**range(start, stop, step)**의 형식으로 사용하며, 이는 start에서 시작하여 step만큼 증감하는 과정을 거쳐 stop까지 수를 나열한다고 해석합니다. 여기서 stop은 나열하는 수에 포함되지 않는다는 점을 주의하시기 바랍니다.\n",
        "**range(1, 7, 2)**라고 코드를 작성하면 1, 3, 5라는 3개 숫자를 담은 객체가 만들어집니다. 1부터 시작해서 7보다 작은 수까지 2씩 증가하는 수의 나열을 만들어주는 것이죠. **range** 객체는 **for** 구문과 함께 많이 사용되는 점 참고해 주세요."
      ],
      "metadata": {
        "id": "jg2XzX0qv1wu"
      }
    },
    {
      "cell_type": "markdown",
      "source": [
        "**while** 구문은 조건을 만족하는 동안 내부 블록을 반복 실행하는 구문이며, **break** 와 **continue**는 **for** 구문과 동일하게 사용됩니다."
      ],
      "metadata": {
        "id": "xK191O8z3fll"
      }
    },
    {
      "cell_type": "markdown",
      "source": [
        "아래 **while** 구문의 예시는 ‘중지’ 이외의 명령어(문자열)가 입력되는 동안 계속 명령어를 입력받고 수행하는 코드입니다. 아래 예시를 실행하여 여러 가지 명령어(걷기, 달리기, 먹기 등)를 입력하다가 그만 하고 싶을 때 ‘중지’를 입력해보세요."
      ],
      "metadata": {
        "id": "IscgpK_SAB2j"
      }
    },
    {
      "cell_type": "markdown",
      "source": [
        "**실행 결과를 확인해보세요!**"
      ],
      "metadata": {
        "id": "jt2K-6W4AJRr"
      }
    },
    {
      "cell_type": "code",
      "source": [
        "command = input('명령어: ')\n",
        "while command != '중지':\n",
        "\tcommand = input('명령어: ')\n",
        "\tprint(command, '수행합니다.')\n",
        "print('프로그램을 종료합니다.')"
      ],
      "metadata": {
        "id": "5pCAcU_xAO3i"
      },
      "execution_count": null,
      "outputs": []
    },
    {
      "cell_type": "markdown",
      "source": [
        "**2. 비교 연산자와 조건문**"
      ],
      "metadata": {
        "id": "V4Ej9ZBhwJwU"
      }
    },
    {
      "cell_type": "markdown",
      "source": [
        "<img src=\"https://github.com/KimJEssam/tic-tac-toe/blob/main/stage3-2.png?raw=true\" width=600>"
      ],
      "metadata": {
        "id": "w_jlnBqzAXDp"
      }
    },
    {
      "cell_type": "markdown",
      "source": [
        "*실행결과를 확인해보세요!*"
      ],
      "metadata": {
        "id": "EjVghgYdwYrQ"
      }
    },
    {
      "cell_type": "code",
      "source": [
        "while True:\n",
        "\tsel = input('계속할까요?(y/n) ')\n",
        "\tif sel == 'n':\n",
        "\t\tbreak\n",
        "\tprint('반복합니다.')"
      ],
      "metadata": {
        "id": "kAGXkYo4wWC0"
      },
      "execution_count": null,
      "outputs": []
    },
    {
      "cell_type": "markdown",
      "source": [
        "위 코드는 'n'이라는 알파벳이 입력될 때까지 '반복합니다.'를 출력하는 코드입니다. 직접 실행하여 확인해주세요."
      ],
      "metadata": {
        "id": "1iM8dz_8wmO3"
      }
    },
    {
      "cell_type": "markdown",
      "source": [
        "**3. 조건문**"
      ],
      "metadata": {
        "id": "hc3HpFaixK_C"
      }
    },
    {
      "cell_type": "markdown",
      "source": [
        "**if** 구문은 조건문을 위해 사용하며 '만약'이라는 의미로 해석할 수 있습니다. 주어진 조건이 참이면 내부 블록을 실행하죠. **elif**문은 **if**와 동일한 용도로 사용되지만 꼭 **if**문 아래에서만 사용할 수 있으며 여러 개 사용할 수 있습니다. **else**문은 마지막에 위치하며 **if**와 **elif**에 적힌 모든 조건을 만족하지 않을 경우 실행됩니다."
      ],
      "metadata": {
        "id": "xdoapK1U3Z18"
      }
    },
    {
      "cell_type": "markdown",
      "source": [
        "<img src=\"https://github.com/KimJEssam/tic-tac-toe/blob/main/stage3-3.png?raw=true\" width=300>"
      ],
      "metadata": {
        "id": "hyZHk2QhBTed"
      }
    },
    {
      "cell_type": "markdown",
      "source": [
        "아래 예제는 연령에 따라서 어린이, 청소년, 어른을 구분하는 코드입니다. 나이를 뜻하는 숫자를 입력하여 확인해보세요."
      ],
      "metadata": {
        "id": "VAtqdFMhBgMX"
      }
    },
    {
      "cell_type": "markdown",
      "source": [
        "*실행결과를 확인해 보세요.*"
      ],
      "metadata": {
        "id": "I-D8_CyOBpCp"
      }
    },
    {
      "cell_type": "code",
      "source": [
        "age = int(input('나이? '))\n",
        "\n",
        "if age < 13:\n",
        "\tprint('어린이')\n",
        "elif age < 20:\n",
        "\tprint('청소년')\n",
        "else:\n",
        "\tprint('어른')"
      ],
      "metadata": {
        "id": "5O-3NxetxIuJ"
      },
      "execution_count": null,
      "outputs": []
    },
    {
      "cell_type": "markdown",
      "source": [
        "이제 학습한 반복문과 조건문을 이용해서 두 플레이어가 번갈아가며 위치를 선택할 수 있도록 프로그램을 작성해봅시다!"
      ],
      "metadata": {
        "id": "-YdhI5H5xO-S"
      }
    },
    {
      "cell_type": "markdown",
      "source": [
        "**실습내용**"
      ],
      "metadata": {
        "id": "m38zS1A0xTJH"
      }
    },
    {
      "cell_type": "markdown",
      "source": [
        "틱택토 게임 개발 두 번째 단계입니다. \n",
        "\n",
        "1.  게임 소개와 게임 보드에 돌을 둘 위치를 선택하는 방법을 안내합니다.\n",
        "2.  'O'와 'X'가 번갈아 위치를 선택하도록 합니다. 9번 반복 입력 받고, 입력된 위치 정보를 다시 출력합니다. 단, 항상 'O'가 먼저 시작하며, 제대로 선택했는지에 대해서는 확인하지 않습니다.\n",
        "\n",
        "\n"
      ],
      "metadata": {
        "id": "R2yZFMEoxYmt"
      }
    },
    {
      "cell_type": "markdown",
      "source": [
        "<img src=\"https://github.com/KimJEssam/tic-tac-toe/blob/main/stage3-4.png?raw=true\" width=900>"
      ],
      "metadata": {
        "id": "s8Ork57LGbI5"
      }
    },
    {
      "cell_type": "markdown",
      "source": [
        "**프로그램** "
      ],
      "metadata": {
        "id": "-I9OK0atqmV5"
      }
    },
    {
      "cell_type": "markdown",
      "source": [
        "<img src=\"https://github.com/KimJEssam/tic-tac-toe/blob/main/stage3-5.png?raw=true\" width=102400>"
      ],
      "metadata": {
        "id": "37bmyHkl0FXW"
      }
    },
    {
      "cell_type": "code",
      "source": [
        "#실행예시를 참고해서 @@@@@@@@@@을 완성하세요.\n",
        "\n",
        "print(\"[2-Player Version]\")\n",
        "print(\"틱택토(tic-tac-toe)는 두 명이 번갈아가며 'O'와 'X'를 3×3 판에 써서 같은 글자를 가로, 세로, 혹은 대각선 상에 놓이도록 하는 놀이입니다.\")\n",
        "print(\"위치 선택은 아래와 같이 키보드의 숫자 키패드를 이용하세요.\")\n",
        "print(\"---------\")\n",
        "print(\"| 7 8 9 |\")\n",
        "print(\"| 4 5 6 |\")\n",
        "print(\"| 1 2 3 |\")\n",
        "print(\"---------\")\n",
        "\n",
        "numOfStone = 0 #게임 보드에 'O'와 'X'를 둔 개수('O'와 'X'를 돌이라고 표현했음)\n",
        "currentStone = 'O' #먼저 두는 사람이 'O', 뒤에 두는 사람이 'X'를 두는 것으로 정함\n",
        "\n",
        "while True:\n",
        "\tinData = input(currentStone + '님, 위치를 선택하세요. ')\n",
        "\tpos = int(inData)\n",
        "\tprint(currentStone, ' 선택 위치:', pos)\n",
        "\tnumOfStone = @@@@@@@@@@\n",
        "\t\n",
        "\tif @@@@@@@@@@:\n",
        "\t\tbreak\n",
        "\t\n",
        "\t#현재 순서(돌)가 'O'이면 'X'로, 그렇지 않으면('X'이면) 'O'로 변경함\n",
        "\tif @@@@@@@@@@:\n",
        "\t\tcurrentStone = 'X'\n",
        "\telse:\n",
        "\t\tcurrentStone = 'O'"
      ],
      "metadata": {
        "id": "EB92YwB7qaYX"
      },
      "execution_count": null,
      "outputs": []
    }
  ]
}