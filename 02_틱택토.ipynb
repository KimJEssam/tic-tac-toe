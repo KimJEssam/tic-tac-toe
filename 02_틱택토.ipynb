{
  "nbformat": 4,
  "nbformat_minor": 0,
  "metadata": {
    "colab": {
      "provenance": [],
      "authorship_tag": "ABX9TyOnIOSp/nrDgkEL/agpnC0u",
      "include_colab_link": true
    },
    "kernelspec": {
      "name": "python3",
      "display_name": "Python 3"
    },
    "language_info": {
      "name": "python"
    }
  },
  "cells": [
    {
      "cell_type": "markdown",
      "metadata": {
        "id": "view-in-github",
        "colab_type": "text"
      },
      "source": [
        "<a href=\"https://colab.research.google.com/github/KimJEssam/tic-tac-toe/blob/main/02_%ED%8B%B1%ED%83%9D%ED%86%A0.ipynb\" target=\"_parent\"><img src=\"https://colab.research.google.com/assets/colab-badge.svg\" alt=\"Open In Colab\"/></a>"
      ]
    },
    {
      "cell_type": "markdown",
      "source": [
        "#**Stage2.플레이어에게 친절하기**\n",
        "---\n",
        "\n",
        "\n",
        "<img src=\"https://github.com/KimJEssam/firstTest/blob/main/00.PNG?raw=true\" width=150>"
      ],
      "metadata": {
        "id": "uprygpfSFQLi"
      }
    },
    {
      "cell_type": "markdown",
      "source": [
        "이번 시간에는 플레이어에게 게임을 설명하고, 플레이어가 게임 보드의 위치를 선택할 수 있도록 안내하려 합니다. 이를 위해 꼭 알아야 할 파이썬 개념을 살펴봅시다."
      ],
      "metadata": {
        "id": "lT6hDlrfHg7R"
      }
    },
    {
      "cell_type": "markdown",
      "source": [
        "**1. 변수와 대입 연산자**"
      ],
      "metadata": {
        "id": "bwZRqyUyu7Sy"
      }
    },
    {
      "cell_type": "markdown",
      "source": [
        "변수는 데이터를 저장하기 위한 공간을 의미하며, 위에서 출력한 문자열, 정수, 실수 등 다양한 값을 변수에 저장할 수 있습니다. 변수 이름은 문자나 밑줄로 시작해야 하고, 숫자를 포함할 수 있습니다. 그리고 가급적 의미 있는 이름을 짓는 것이 좋습니다."
      ],
      "metadata": {
        "id": "rUyYmosZu2HB"
      }
    },
    {
      "cell_type": "markdown",
      "source": [
        "*실행결과를 확인해 보세요*"
      ],
      "metadata": {
        "id": "ToYsx8FdvlJe"
      }
    },
    {
      "cell_type": "code",
      "source": [
        "nameOfGame = 'Tic-tac-toe'\n",
        "year = 2020\n",
        "pi = 3.1415\n",
        "print(nameOfGame)\n",
        "print(year)\n",
        "print(pi)"
      ],
      "metadata": {
        "id": "b-Rqew4bvhe9"
      },
      "execution_count": null,
      "outputs": []
    },
    {
      "cell_type": "markdown",
      "source": [
        "위의 예제를 유심히 살펴보세요. 등호의 왼쪽에 있는 nameOfGame, year, pi가 **변수**입니다. 등호는 **대입연산자**로, 등호 오른쪽에 있는 값을 등호 왼쪽의 변수에 저장합니다. 좀 더 정확히 설명하자면 오른쪽의 값이 저장된 공간을 변수가 가리키게 된다고 할 수 있습니다.\n"
      ],
      "metadata": {
        "id": "jg2XzX0qv1wu"
      }
    },
    {
      "cell_type": "markdown",
      "source": [
        "\n",
        "**프로그래밍 언어를 배우는 좋은 방법은 관찰입니다. 코드와 결과를 비교하며 공부하면 빠른 시간 안에 코드를 이해할 수 있습니다.**"
      ],
      "metadata": {
        "id": "xK191O8z3fll"
      }
    },
    {
      "cell_type": "markdown",
      "source": [
        "**2. 입력을 위한 구문**"
      ],
      "metadata": {
        "id": "V4Ej9ZBhwJwU"
      }
    },
    {
      "cell_type": "markdown",
      "source": [
        "이제 입력을 위한 구문을 알아봅시다. 키보드로부터 데이터를 입력받기 위해서 사용하는 함수는 **input()**입니다."
      ],
      "metadata": {
        "id": "T-VKj4guwNZI"
      }
    },
    {
      "cell_type": "markdown",
      "source": [
        "*실행결과를 확인해보세요!*"
      ],
      "metadata": {
        "id": "EjVghgYdwYrQ"
      }
    },
    {
      "cell_type": "code",
      "source": [
        "inValue = input('이름을 입력하세요: ')\n",
        "print('안녕하세요,', inValue)"
      ],
      "metadata": {
        "id": "kAGXkYo4wWC0"
      },
      "execution_count": null,
      "outputs": []
    },
    {
      "cell_type": "markdown",
      "source": [
        "**input()함수는 엔터키를 입력하기 전까지의 데이터를 문자열로 입력하는 함수입니다.**  위의 코드를 실행하면서 문자, 단어, 문장 등 다양한 값을 입력해보세요.\n",
        "\n",
        "예를 들어, 문자 'a', 단어 'Yoon', 여러 개의 단어 'Sujin Yoon'을 각각 입력하며 테스트할 수 있습니다.\n",
        "\n",
        "여기서 주의해야 할 점이 있습니다. \n",
        "input() 함수로 입력받은 데이터는 문자열 형식입니다. 연산이 가능한 숫자로 변환하기 위해서 int() 함수를 이용할 수 있습니다. 사용 방법은 아래 코드에서 확인하세요.\n",
        "\n"
      ],
      "metadata": {
        "id": "1iM8dz_8wmO3"
      }
    },
    {
      "cell_type": "markdown",
      "source": [
        "아래 예제는 올해 연도를 입력하면 입력 받은 값에 1을 더해서 내년 연도를 출력하는 코드입니다."
      ],
      "metadata": {
        "id": "hc3HpFaixK_C"
      }
    },
    {
      "cell_type": "markdown",
      "source": [
        "*실행결과를 확인해 보세요!*"
      ],
      "metadata": {
        "id": "xdoapK1U3Z18"
      }
    },
    {
      "cell_type": "code",
      "source": [
        "inYear = input('올해는 몇 년인가요? ')\n",
        "year = int(inYear)\n",
        "print('내년은', year + 1, '년입니다.')"
      ],
      "metadata": {
        "id": "5O-3NxetxIuJ"
      },
      "execution_count": null,
      "outputs": []
    },
    {
      "cell_type": "markdown",
      "source": [
        "이제 틱택토 게임 구현을 시작해볼까요?"
      ],
      "metadata": {
        "id": "-YdhI5H5xO-S"
      }
    },
    {
      "cell_type": "markdown",
      "source": [
        "**실습내용**"
      ],
      "metadata": {
        "id": "m38zS1A0xTJH"
      }
    },
    {
      "cell_type": "markdown",
      "source": [
        "틱택토 게임을 구현하기 위한 첫 단계입니다. 이제까지 배운 내용을 떠올리며 아래 설명과 실행 예시를 참고하여 코드를 완성하세요.\n",
        "\n",
        "1. 게임 소개와 게임 보드에 돌을 둘 위치를 선택하는 방법을 안내합니다.\n",
        "2. 위치를 입력받고, 입력된 위치 정보를 다시 출력합니다.\n",
        "\n",
        "\n",
        "\n"
      ],
      "metadata": {
        "id": "R2yZFMEoxYmt"
      }
    },
    {
      "cell_type": "markdown",
      "source": [
        "<img src=\"https://github.com/KimJEssam/tic-tac-toe/blob/main/stage2-1.png?raw=true\" width=900>"
      ],
      "metadata": {
        "id": "s8Ork57LGbI5"
      }
    },
    {
      "cell_type": "markdown",
      "source": [
        "**프로그램** "
      ],
      "metadata": {
        "id": "-I9OK0atqmV5"
      }
    },
    {
      "cell_type": "markdown",
      "source": [
        "<img src=\"https://github.com/KimJEssam/tic-tac-toe/blob/main/stage2-2.png?raw=true\" width=600>"
      ],
      "metadata": {
        "id": "37bmyHkl0FXW"
      }
    },
    {
      "cell_type": "code",
      "source": [
        "#실행예시를 참고해서 @@@@@@@@@@을 완성하세요.\n",
        "\n",
        "'''@@@@@@@@@@'''(\"[2-Player Version]\")\n",
        "print(\"틱택토는 두 명이 번갈아가며 'O'와 'X'를 3×3 판에 두는 오목과 유사한 놀이입니다.\")\n",
        "print(\"위치 선택은 아래와 같이 키보드의 숫자 키패드를 이용하세요.\")\n",
        "print(\"---------\")\n",
        "print(\"| 7 8 9 |\")\n",
        "print(\"| 4 5 6 |\")\n",
        "print(\"| 1 2 3 |\")\n",
        "'''@@@@@@@@@@'''\n",
        "\n",
        "inData = '''@@@@@@@@@@'''('위치를 선택하세요. ')\n",
        "pos = int(inData)\n",
        "print('당신이 선택한 위치는', '''@@@@@@@@@@''', '입니다.')"
      ],
      "metadata": {
        "id": "EB92YwB7qaYX"
      },
      "execution_count": null,
      "outputs": []
    }
  ]
}