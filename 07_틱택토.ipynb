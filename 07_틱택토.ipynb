{
  "nbformat": 4,
  "nbformat_minor": 0,
  "metadata": {
    "colab": {
      "provenance": [],
      "authorship_tag": "ABX9TyNhiJsskbWhCNWt9dO7+quA",
      "include_colab_link": true
    },
    "kernelspec": {
      "name": "python3",
      "display_name": "Python 3"
    },
    "language_info": {
      "name": "python"
    }
  },
  "cells": [
    {
      "cell_type": "markdown",
      "metadata": {
        "id": "view-in-github",
        "colab_type": "text"
      },
      "source": [
        "<a href=\"https://colab.research.google.com/github/KimJEssam/tic-tac-toe/blob/main/07_%ED%8B%B1%ED%83%9D%ED%86%A0.ipynb\" target=\"_parent\"><img src=\"https://colab.research.google.com/assets/colab-badge.svg\" alt=\"Open In Colab\"/></a>"
      ]
    },
    {
      "cell_type": "markdown",
      "source": [
        "#**Stage7. 승자에게 축하를**\n",
        "---\n",
        "\n",
        "\n",
        "<img src=\"https://github.com/KimJEssam/firstTest/blob/f7558fe830e54b8c91c776d9e82c19a26ec48d7b/%EC%84%B8%EC%83%81%EC%9D%80%20%EC%A7%84%ED%99%94%ED%95%98%EA%B3%A0%20%EC%9E%88%EA%B3%A0.png?raw=true\" width=600>"
      ],
      "metadata": {
        "id": "uprygpfSFQLi"
      }
    },
    {
      "cell_type": "markdown",
      "source": [
        "Stage7은 이제까지 학습한 내용만으로 해결할 수 있습니다. 문제 상황을 이해하고 규칙을 찾아 코드로 작성하는 문제 해결의 일반적인 과정을 계속 연습하면, 여러분의 컴퓨팅 사고력과 프로그래밍 구현 능력이 빠르게 성장할 겁니다.\n",
        "\n",
        "---\n",
        "\n"
      ],
      "metadata": {
        "id": "lT6hDlrfHg7R"
      }
    },
    {
      "cell_type": "markdown",
      "source": [
        "**함수 응용하기**"
      ],
      "metadata": {
        "id": "bwZRqyUyu7Sy"
      }
    },
    {
      "cell_type": "markdown",
      "source": [
        "2-Player 모드에서 추가할 마지막 기능은 승자 확인 및 승자가 있다면 게임을 종료하도록 해주는 기능입니다. 그러면 승자의 존재를 언제, 어떻게 확인해야 할까요?"
      ],
      "metadata": {
        "id": "rUyYmosZu2HB"
      }
    },
    {
      "cell_type": "markdown",
      "source": [
        "물론 플레이어가 돌을 둔 직후 그 플레이어의 돌이 보드의 가로, 세로, 대각선 중 하나의 줄에 3개가 놓였는지 확인해야 합니다. 이런 기능을 묶어 함수로 작성하는 것이 논리적이고 간결한 프로그래밍을 위해 바람직합니다. 함수 이름은 isWinner라고 짓고, 넘겨받을 값은 보드와 확인할 돌('O' 또는 'X')을 매개변수로 받겠습니다."
      ],
      "metadata": {
        "id": "7YIbqAW6_MWJ"
      }
    },
    {
      "cell_type": "markdown",
      "source": [
        "<img src=\"https://github.com/KimJEssam/tic-tac-toe/blob/main/stage7-1.png?raw=true\" width=300>\n",
        "\n",
        "\n",
        "\n"
      ],
      "metadata": {
        "id": "Uwo1wJnPfuDi"
      }
    },
    {
      "cell_type": "markdown",
      "source": [
        "보드에서 넘겨받은 돌이 한 줄을 차지하고 있으면 참(True)을 반환합니다. 한 번에 8줄을 모두 검사하는 구문을 작성하기는 어려우니 경우를 나눠 작성할 필요가 있습니다. 모든 검사에서 참을 반환하지 못했다면 넘겨받은 돌이 승자가 아니라는 뜻이니 마지막에 거짓(False)을 리턴하도록 작성합니다."
      ],
      "metadata": {
        "id": "xviNYKB0Bbzj"
      }
    },
    {
      "cell_type": "code",
      "source": [],
      "metadata": {
        "id": "QX-svc0SBiiO"
      },
      "execution_count": null,
      "outputs": []
    },
    {
      "cell_type": "markdown",
      "source": [
        "<img src=\"https://github.com/KimJEssam/tic-tac-toe/blob/main/stage7-2.png?raw=true\" width=250>"
      ],
      "metadata": {
        "id": "XvMhAjZBfvNB"
      }
    },
    {
      "cell_type": "markdown",
      "source": [
        "가로 3개의 행을 검사할 때 각 조건문을 아래와 같이 작성해도 됩니다. \n",
        "\n"
      ],
      "metadata": {
        "id": "U6IUY1Prf4pp"
      }
    },
    {
      "cell_type": "markdown",
      "source": [
        "*실행 결과를 확인해보세요!*"
      ],
      "metadata": {
        "id": "6IoyQrnUBsCn"
      }
    },
    {
      "cell_type": "code",
      "source": [
        "board = ['-', 'O', 'X', 'O', 'X', 'O', 'X', 'O', 'X', 'O']\n",
        "stone = 'O'\n",
        "if (board[1] == stone and board[2] == stone and board[3] == stone) or (board[4] == stone and board[5] == stone and board[6] == stone) or (board[7] == stone and board[8] == stone and board[9] == stone):\n",
        "\tprint(stone, 'win')\n",
        "else:\n",
        "\tprint('Not yet')"
      ],
      "metadata": {
        "id": "aeePfEXMBwP6"
      },
      "execution_count": null,
      "outputs": []
    },
    {
      "cell_type": "markdown",
      "source": [
        "코드 내 보드 인덱스를 살펴보니 규칙이 눈에 들어오죠? 각 행의 인덱스는 맨 앞 인덱스에서 1씩 커집니다. 즉 맨 앞 인덱스가 1이면 나머지 두 인덱스는 2와 3, 맨 앞 인덱스가 7이면 나머지 두 인덱스는 8과 9입니다."
      ],
      "metadata": {
        "id": "qw0uFf_wB1Gk"
      }
    },
    {
      "cell_type": "markdown",
      "source": [
        "이제 맨 앞 인덱스 1, 4, 7을 갖고 반복문을 돌며 맨 앞 인덱스와 그 뒤에 이어지는 두 개의 인덱스를 검사하는 구문을 살펴봅시다. 함수를 이용한 예제가 아니니 return 문 없이 출력되는 값만 변경하고, 마지막에 메시지를 출력하도록 작성했습니다. 실행하기 전에 충분히 코드를 파악하고 결과를 예상해보세요."
      ],
      "metadata": {
        "id": "yz14VKJwB122"
      }
    },
    {
      "cell_type": "code",
      "source": [
        "board = ['-', 'O', 'X', '-', 'X', '-', 'X', 'O', 'O', 'O']\n",
        "stone = 'O'\n",
        "message = 'Not yet'\n",
        "\n",
        "for i in [1, 4, 7]:\n",
        "\tif board[i] == stone and board[i+1] == stone and board[i+2] == stone:\n",
        "\t\tmessage = \"'\" + stone + \"' win\"\n",
        "\t\tbreak\n",
        "\n",
        "print(message)"
      ],
      "metadata": {
        "id": "1rDG54FmB6ZC"
      },
      "execution_count": null,
      "outputs": []
    },
    {
      "cell_type": "markdown",
      "source": [
        "승자를 확인한 뒤 승자가 있으면 누가 이겼는지 알려주고 게임을 종료하도록 프로그램을 개선해보세요. 이긴 사람 없이 보드가 꽉 찬 경우에는 비겼다는 메시지를 출력하도록 작성합니다."
      ],
      "metadata": {
        "id": "nao0CAOmCAez"
      }
    },
    {
      "cell_type": "markdown",
      "source": [
        "**실습내용**"
      ],
      "metadata": {
        "id": "m38zS1A0xTJH"
      }
    },
    {
      "cell_type": "markdown",
      "source": [
        "틱택토 게임 개발 여섯 번째 단계입니다. 아래 설명과 실행 예시를 참고하여 코드를 완성하세요.\n",
        "\n",
        "1.  틱택토 보드에서 특정 돌('O' 또는 'X')가 한 줄 모두를 차지한 줄이 있는지 확인하는 함수를 정의하고, 플레이어가 돌을 놓을 때마다 이 함수를 이용해서 확인하고 결과를 출력하는 기능을 추가하세요. \n",
        "2. 1번 이외의 내용은 이전 스테이지와 동일합니다.\n",
        "\n",
        "\n",
        "\n",
        "\n"
      ],
      "metadata": {
        "id": "R2yZFMEoxYmt"
      }
    },
    {
      "cell_type": "markdown",
      "source": [
        "실행화면 예시"
      ],
      "metadata": {
        "id": "RqF5DCpPVTbM"
      }
    },
    {
      "cell_type": "markdown",
      "source": [
        "<img src =\"https://github.com/KimJEssam/tic-tac-toe/blob/main/stage7-3.png?raw=true\" width=900>\n",
        "<img src =\"https://github.com/KimJEssam/tic-tac-toe/blob/main/stage7-4.png?raw=true\" width=900>"
      ],
      "metadata": {
        "id": "Df0VE96oierQ"
      }
    },
    {
      "cell_type": "markdown",
      "source": [
        "**프로그램** "
      ],
      "metadata": {
        "id": "-I9OK0atqmV5"
      }
    },
    {
      "cell_type": "markdown",
      "source": [
        "<img src =\"https://github.com/KimJEssam/tic-tac-toe/blob/main/stage7-5.png?raw=true\" width=1024>\n",
        "<img src =\"https://github.com/KimJEssam/tic-tac-toe/blob/main/stage7-6.png?raw=true\" width=1024>\n",
        "<img src =\"https://github.com/KimJEssam/tic-tac-toe/blob/main/stage7-7.png?raw=true\" width=1024>"
      ],
      "metadata": {
        "id": "37bmyHkl0FXW"
      }
    },
    {
      "cell_type": "markdown",
      "source": [
        "실행예시를 참고해서 @@@@@@@@@@을 완성하세요.\n"
      ],
      "metadata": {
        "id": "e4kveHs9XikU"
      }
    },
    {
      "cell_type": "code",
      "source": [
        "#게임에 관해 안내한다.\n",
        "def printInfo():\n",
        "\tprint(\"[2-Player Version]\")\n",
        "\tprint(\"틱택토(tic-tac-toe)는 두 명이 번갈아가며 'O'와 'X'를 3×3 판에 써서 같은 글자를 가로, 세로, 혹은 대각선 상에 놓이도록 하는 놀이입니다.\")\n",
        "\tprint(\"위치 선택은 아래와 같이 키보드의 숫자 키패드를 이용하세요.\")\n",
        "\tprint(\"---------\")\n",
        "\tprint(\"| 7 8 9 |\")\n",
        "\tprint(\"| 4 5 6 |\")\n",
        "\tprint(\"| 1 2 3 |\")\n",
        "\tprint(\"---------\")\n",
        "\tprint(\"게임을 시작합니다.\")\n",
        "\n",
        "\n",
        "#보드의 내용을 화면에 출력한다.\n",
        "def drawBoard(board):\n",
        "\tprint(\"---------\")\n",
        "\tprint(\"|\", board[7], board[8], board[9], \"|\")\n",
        "\tprint(\"|\", board[4], board[5], board[6], \"|\")\n",
        "\tprint(\"|\", board[1], board[2], board[3], \"|\")\n",
        "\tprint(\"---------\")  \n",
        "\n",
        "  \n",
        "#플레이어로부터 위치를 입력받는다.\n",
        "def getPlayerMove(board, stone):\n",
        "\twhile True:\n",
        "\t\tinData = input(stone + '님, 위치를 선택하세요. ')\n",
        "\t\tif len(inData) == 1 and '1' <= inData <= '9':\n",
        "\t\t\tpos = int(inData)  \n",
        "\t\t\tif board[pos] == '-':\n",
        "\t\t\t\tboard[pos] = stone\n",
        "\t\t\t\tbreak\n",
        "\t\tprint('잘못 선택하셨습니다. 비어있는 칸을 숫자로 입력하세요.')\n",
        "\n",
        "\n",
        "#보드에 놓여진 돌의 개수를 리턴한다.\n",
        "def numberOfStone(board):\n",
        "\tn = 0\n",
        "\tfor c in board:\n",
        "\t\tif c != '-':\n",
        "\t\t\tn = n + 1\n",
        "\treturn n\n",
        "  \n",
        "\n",
        "#보드에서 stone('O' 또는 'X')가 연속해서 3개 놓여졌는지 여부(True 또는 False)를 리턴한다.\n",
        "def isWinner(board, stone):\n",
        "\n",
        "\t#가로 세 행 확인\n",
        "\tfor i in [1, 4, 7]:\n",
        "\t\tif board[i] == stone and board[i + 1] == stone and board[i + 2] == stone:\n",
        "\t\t\treturn True\n",
        "\n",
        "\t#세로 세 열 확인\n",
        "\t'''@@@@@@@@@'''\n",
        "\n",
        "\t#대각선(오른쪽 위에서 왼쪽 아래)\n",
        "\tif board[1] == stone and board[5] == stone and board[9] == stone:\n",
        "\t\treturn True\n",
        "\n",
        "\t#대각선(왼쪽 위에서 오른쪽 아래)\n",
        "\t'''@@@@@@@@@@'''\n",
        "\t\t\n",
        "\treturn '''@@@@@@@@@@'''\n",
        "\n",
        "\n",
        "#틱택토 1게임을 진행합니다.\n",
        "def ticTacToe():\n",
        "\tcurrentStone = 'O' #먼저 두는 사람이 'O', 뒤에 두는 사람이 'X'를 두는 것으로 정함\n",
        "\n",
        "\t#빈 틱택토 보드를 표현하기 위해서 '-'로 10개의 요소를 채운 리스트를 만듭니다.\n",
        "\t#위치 정보와 리스트의 인덱스를 일치시키기 위해 10개의 요소를 채우고, 이후에 맨 앞(인덱스 0) 요소는 사용하지 않습니다.\n",
        "\ttttBoard = ['-'] * 10\n",
        "\n",
        "\tprintInfo()\n",
        "\tdrawBoard(tttBoard)\n",
        "\n",
        "\twhile True:\n",
        "\t\tgetPlayerMove(tttBoard, currentStone)  \n",
        "\t\tdrawBoard(tttBoard)\n",
        "\t\t\n",
        "\t\tif isWinner(tttBoard, currentStone):\n",
        "\t\t\tprint(\"'\" + '''@@@@@@@@@@''' + \"'가 이겼습니다.\")\n",
        "\t\t\treturn\n",
        "\t\t\t\n",
        "\t\tif '''@@@@@@@@@@''':\n",
        "\t\t\t# 보드가 꽉 찼는지 꼭 검사해보세요\n",
        "\t\t\tprint(\"비겼습니다.\")\n",
        "\t\t\treturn\n",
        "\t\t\t\n",
        "\t\tif currentStone == 'O':\n",
        "\t\t\tcurrentStone = 'X'\n",
        "\t\telse:\n",
        "\t\t\tcurrentStone = 'O'\n",
        "\t\t\t\n",
        "\n",
        "\n",
        "#틱택토 1게임 실행을 위해 함수를 호출합니다.\n",
        "ticTacToe()"
      ],
      "metadata": {
        "id": "EB92YwB7qaYX"
      },
      "execution_count": null,
      "outputs": []
    }
  ]
}