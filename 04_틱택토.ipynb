{
  "nbformat": 4,
  "nbformat_minor": 0,
  "metadata": {
    "colab": {
      "provenance": [],
      "authorship_tag": "ABX9TyNPe0XeRaSSmA7ScT0oNYXE",
      "include_colab_link": true
    },
    "kernelspec": {
      "name": "python3",
      "display_name": "Python 3"
    },
    "language_info": {
      "name": "python"
    }
  },
  "cells": [
    {
      "cell_type": "markdown",
      "metadata": {
        "id": "view-in-github",
        "colab_type": "text"
      },
      "source": [
        "<a href=\"https://colab.research.google.com/github/KimJEssam/tic-tac-toe/blob/main/04_%ED%8B%B1%ED%83%9D%ED%86%A0.ipynb\" target=\"_parent\"><img src=\"https://colab.research.google.com/assets/colab-badge.svg\" alt=\"Open In Colab\"/></a>"
      ]
    },
    {
      "cell_type": "markdown",
      "source": [
        "#**Stage4. 틱택토 보드 만들기**\n",
        "---\n",
        "\n",
        "\n",
        "<img src=\"https://github.com/KimJEssam/firstTest/blob/f7558fe830e54b8c91c776d9e82c19a26ec48d7b/%EB%A7%90%EB%B3%B4%EB%8B%A4%20%EB%B9%A8%EB%A6%AC.png?raw=true\" width=600>"
      ],
      "metadata": {
        "id": "uprygpfSFQLi"
      }
    },
    {
      "cell_type": "markdown",
      "source": [
        "이번 스테이지에서는 게임 보드에 'O' 또는 'X', 두 플레이어의 선택을 저장한 뒤 보드 상태를 출력해보려 합니다. 이전 시간 잠시 언급했던 리스트를 기억하시나요? 이번엔 이 리스트를 좀 더 자세히 알아보려 합니다."
      ],
      "metadata": {
        "id": "lT6hDlrfHg7R"
      }
    },
    {
      "cell_type": "markdown",
      "source": [
        "**1. 리스트**"
      ],
      "metadata": {
        "id": "bwZRqyUyu7Sy"
      }
    },
    {
      "cell_type": "markdown",
      "source": [
        "틱택토 게임 보드는 3×3=9개의 칸으로 이루어져 있으니 9개의 변수가 필요합니다. 하지만 서로 다른 이름의 변수 9개로 프로그램을 작성하면 프로그램이 복잡해지고 반복문 또한 사용하기 힘들어집니다."
      ],
      "metadata": {
        "id": "rUyYmosZu2HB"
      }
    },
    {
      "cell_type": "markdown",
      "source": [
        "이를 해결하기 위한 파이썬 자료형 중 리스트를 사용할 수 있습니다. 리스트는 임의의 객체(데이터)를 마음껏 저장할 수 있으며 순서를 가지는 상자와 같습니다. 크기를 자유롭게 조정할 수 있고 다양한 연산도 지원합니다."
      ],
      "metadata": {
        "id": "K1RzIo8TS34g"
      }
    },
    {
      "cell_type": "markdown",
      "source": [
        "*아래 코드를 실행시켜 결과를 확인해 보세요*"
      ],
      "metadata": {
        "id": "ToYsx8FdvlJe"
      }
    },
    {
      "cell_type": "code",
      "source": [
        "arr = [1, 120, 'A', 'Hi', 2.5]\n",
        "print(arr[0], arr[1], arr[2], arr[3], arr[4])\n",
        "\n",
        "arr[1] = 'X'\n",
        "for i in range(5):\n",
        "\tprint(i, ':', arr[i])"
      ],
      "metadata": {
        "id": "b-Rqew4bvhe9"
      },
      "execution_count": null,
      "outputs": []
    },
    {
      "cell_type": "markdown",
      "source": [
        "1행의 대입문으로 아래 그림과 같은 arr 리스트가 생성됩니다."
      ],
      "metadata": {
        "id": "jg2XzX0qv1wu"
      }
    },
    {
      "cell_type": "markdown",
      "source": [
        "<img src=\"https://github.com/KimJEssam/tic-tac-toe/blob/main/stage4-1.png?raw=true\" width=400>"
      ],
      "metadata": {
        "id": "-1Ylz8_hTQKZ"
      }
    },
    {
      "cell_type": "markdown",
      "source": [
        "리스트에 들어있는 각 요소는 print(arr[0])  형태와 같이 값을 참조하거나 변경할 수 있습니다. 만약 arr 리스트의 인덱스 1 위치 값을 'X'로 변경하고 싶다면 arr[1] = 'X' 라고 작성하면 됩니다."
      ],
      "metadata": {
        "id": "xK191O8z3fll"
      }
    },
    {
      "cell_type": "markdown",
      "source": [
        "arr은 리스트의 이름, 대괄호 안의 숫자는 리스트 내에서의 위치를 나타내며 이 위치는 인덱스라고 부릅니다. 리스트의 인덱스가 0부터 시작한다는 점 주의하셔야 합니다."
      ],
      "metadata": {
        "id": "wUr6mipST1sM"
      }
    },
    {
      "cell_type": "markdown",
      "source": [
        "동일한 값이나 규칙이 있는 값으로 리스트를 초기화하는 방법은 아래 코드를 참고하세요."
      ],
      "metadata": {
        "id": "dZoafdOuT4ZY"
      }
    },
    {
      "cell_type": "code",
      "source": [
        "ex1 = [0] * 5\n",
        "for e in ex1:\n",
        "\tprint(e, end = ' ')\n",
        "\t\n",
        "print()\n",
        "\n",
        "ex2 = [i*i for i in range(1, 10)]\n",
        "for e in ex2:\n",
        "\tprint(e, end = ' ')"
      ],
      "metadata": {
        "id": "VPg5X8w3T67y"
      },
      "execution_count": null,
      "outputs": []
    },
    {
      "cell_type": "markdown",
      "source": [
        "숫자 키패드로 입력 받은 플레이어의 선택 위치와 틱택토 게임 보드를 표현하기 위한 리스트 tttBoard는 아래 그림과 같이 매핑할 수 있습다. 입력 받은 위치와 인덱스 사이 관계를 간단히 하기 위해 리스트 tttBoard의 가장 앞 요소인 인덱스 0은 사용하지 않습니다."
      ],
      "metadata": {
        "id": "UGLSStHUT_dQ"
      }
    },
    {
      "cell_type": "markdown",
      "source": [
        "<img src=\"https://github.com/KimJEssam/tic-tac-toe/blob/main/stage4-2.png?raw=true\" width=400>"
      ],
      "metadata": {
        "id": "ojF3KMH5UA3Z"
      }
    },
    {
      "cell_type": "markdown",
      "source": [
        "이제 리스트를 사용해서 프로그램을 작성해 봅시다."
      ],
      "metadata": {
        "id": "A6X8qRPgUK2b"
      }
    },
    {
      "cell_type": "markdown",
      "source": [
        "**실습내용**"
      ],
      "metadata": {
        "id": "m38zS1A0xTJH"
      }
    },
    {
      "cell_type": "markdown",
      "source": [
        "틱택토 게임을 구현하기 위한 첫 단계입니다. 이제까지 배운 내용을 떠올리며 아래 설명과 실행 예시를 참고하여 코드를 완성하세요.\n",
        "\n",
        "1. 게임 소개와 게임 보드에 돌을 둘 위치를 선택하는 방법을 안내합니다.\n",
        "2.  Stage3과 동일하게 플레이어로부터 위치를 입력받고, 입력 받은 정보를 틱택토 게임 보드에 저장한 후 보드의 정보를 출력합니다. 단, Stage3에서 위치를 입력 받은 후 출력했던 문자열은 출력하지 않습니다.\n",
        "3. 플레이어가 위치를 잘못 선택하는 경우는 아직 고려하고 있지 않습니다. 일단 플레이어를 믿고 9번 위치를 선택하면 종료하도록 작성하고, Stage6에서 개선합니다.\n",
        "\n",
        "\n",
        "\n",
        "\n"
      ],
      "metadata": {
        "id": "R2yZFMEoxYmt"
      }
    },
    {
      "cell_type": "markdown",
      "source": [
        "실행화면 예시"
      ],
      "metadata": {
        "id": "RqF5DCpPVTbM"
      }
    },
    {
      "cell_type": "markdown",
      "source": [
        "<img src=\"https://github.com/KimJEssam/tic-tac-toe/blob/main/stage4-3.png?raw=true\" width=500>"
      ],
      "metadata": {
        "id": "s8Ork57LGbI5"
      }
    },
    {
      "cell_type": "markdown",
      "source": [
        "**프로그램** "
      ],
      "metadata": {
        "id": "-I9OK0atqmV5"
      }
    },
    {
      "cell_type": "markdown",
      "source": [
        "<img src=\"https://github.com/KimJEssam/tic-tac-toe/blob/f0429acabf4b2c14196a33a0763adae979fc3751/stage4-4.png?raw=true\" width=1024>"
      ],
      "metadata": {
        "id": "37bmyHkl0FXW"
      }
    },
    {
      "cell_type": "markdown",
      "source": [
        "실행예시를 참고해서 @@@@@@@@@@을 완성하세요.\n"
      ],
      "metadata": {
        "id": "e4kveHs9XikU"
      }
    },
    {
      "cell_type": "code",
      "source": [
        "print(\"[2-Player Version]\")\n",
        "print(\"틱택토(tic-tac-toe)는 두 명이 번갈아가며 'O'와 'X'를 3×3 판에 써서 같은 글자를 가로, 세로, 혹은 대각선 상에 놓이도록 하는 놀이입니다.\")\n",
        "print(\"위치 선택은 아래와 같이 키보드의 숫자 키패드를 이용하세요.\")\n",
        "print(\"---------\")\n",
        "print(\"| 7 8 9 |\")\n",
        "print(\"| 4 5 6 |\")\n",
        "print(\"| 1 2 3 |\")\n",
        "print(\"---------\")\n",
        "print(\"게임을 시작합니다.\")\n",
        "\n",
        "numOfStone = 0     #게임 보드에 'O'와 'X'를 둔 개수('O'와 'X'를 돌이라고 표현했음)\n",
        "currentStone = 'O' #먼저 두는 사람이 'O', 뒤에 두는 사람이 'X'를 두는 것으로 정함\n",
        "\n",
        "#빈 틱택토 보드를 표현하기 위해서 '-'로 10개의 요소를 채운 리스트를 만듭니다.\n",
        "#위치 정보와 리스트의 인덱스를 일치시키기 위해 10개의 요소를 채우고, 이후에 맨 앞(인덱스 0) 요소는 사용하지 않습니다.\n",
        "tttBoard = ['-'] * 10\n",
        "\n",
        "print(\"---------\")\n",
        "print(\"|\", tttBoard[7], tttBoard[8], tttBoard[9], \"|\")\n",
        "print(\"|\", tttBoard[4], tttBoard[5], tttBoard[6], \"|\")\n",
        "print(\"|\", tttBoard[1], tttBoard[2], tttBoard[3], \"|\")\n",
        "print(\"---------\")\n",
        "  \n",
        "while True:\n",
        "\tinData = input(currentStone + '님, 위치를 선택하세요. ')\n",
        "\tpos = int(inData)\n",
        "\tnumOfStone = numOfStone + 1\n",
        "\t\n",
        "\t#@@@@@@@@@@\n",
        "\n",
        "'''@@@@@@@@@@\n",
        "'''\n",
        "\tif numOfStone >= 9:\n",
        "\t\tbreak\n",
        "\t\n",
        "\tif currentStone == 'O':\n",
        "\t\tcurrentStone = 'X'\n",
        "\telse:\n",
        "\t\tcurrentStone = 'O'"
      ],
      "metadata": {
        "id": "EB92YwB7qaYX"
      },
      "execution_count": null,
      "outputs": []
    }
  ]
}