{
  "nbformat": 4,
  "nbformat_minor": 0,
  "metadata": {
    "colab": {
      "provenance": [],
      "authorship_tag": "ABX9TyOeG69SurNQBQg1LJ6XV6S+",
      "include_colab_link": true
    },
    "kernelspec": {
      "name": "python3",
      "display_name": "Python 3"
    },
    "language_info": {
      "name": "python"
    }
  },
  "cells": [
    {
      "cell_type": "markdown",
      "metadata": {
        "id": "view-in-github",
        "colab_type": "text"
      },
      "source": [
        "<a href=\"https://colab.research.google.com/github/KimJEssam/tic-tac-toe/blob/main/10_%ED%8B%B1%ED%83%9D%ED%86%A0.ipynb\" target=\"_parent\"><img src=\"https://colab.research.google.com/assets/colab-badge.svg\" alt=\"Open In Colab\"/></a>"
      ]
    },
    {
      "cell_type": "markdown",
      "source": [
        "#**Stage10. 조금 똑똑해진 컴퓨터**\n",
        "---\n",
        "\n",
        "\n",
        "<img src=\"https://github.com/KimJEssam/firstTest/blob/main/%EC%BD%94%EB%94%A9%EC%9D%84%20%EB%B0%B0%EC%9A%B0%EC%84%B8%EC%9A%94.png?raw=true\" width=300>"
      ],
      "metadata": {
        "id": "uprygpfSFQLi"
      }
    },
    {
      "cell_type": "markdown",
      "source": [
        "이전 스테이지에서 컴퓨터는 전략 없이 빈 자리만 찾아 돌을 두었습니다. 이번에는 컴퓨터가 최소한의 방어를 할 수 있도록 개선해보고자 합니다.\n",
        "\n",
        "\n",
        "---\n",
        "\n",
        "\n"
      ],
      "metadata": {
        "id": "lT6hDlrfHg7R"
      }
    },
    {
      "cell_type": "markdown",
      "source": [
        "**1. 변수의 개념**"
      ],
      "metadata": {
        "id": "bwZRqyUyu7Sy"
      }
    },
    {
      "cell_type": "markdown",
      "source": [
        "이제까지 정수나 문자열을 저장하는 변수, 틱택토 보드를 표현하기 위한 리스트 변수 등을 사용했습니다. 그러나 정확한 변수의 개념을 아직 설명하지 않았죠? 이제까지 미뤄뒀던 파이썬의 변수에 대한 좀더 깊은 이야기를 지금부터 시작하겠습니다."
      ],
      "metadata": {
        "id": "-DqbDYz4LgjE"
      }
    },
    {
      "cell_type": "markdown",
      "source": [
        "*실행 결과를 확인해보세요!*"
      ],
      "metadata": {
        "id": "jjza39zc0zAL"
      }
    },
    {
      "cell_type": "code",
      "source": [
        "data1 = 'apple'\n",
        "data2 = 'apple'\n",
        "print('값:', data1, '\\t주소:', id(data1))\n",
        "print('값:', data2, '\\t주소:', id(data2))\n",
        "data1 = 'grape'\n",
        "print('값:', data1, '\\t주소:', id(data1))\n",
        "print('값:', data2, '\\t주소:', id(data2))"
      ],
      "metadata": {
        "id": "tlbPuANQ0xVD"
      },
      "execution_count": null,
      "outputs": []
    },
    {
      "cell_type": "markdown",
      "source": [
        "위 코드를 실행시키면 아래 그림과 같이 변수 data1과 data2가 같은 공간을 가리키다가, 5행에서 변수 data1만 새로운 공간을 가리키게 됩니다. 각 변수가 절대적인 공간을 가리키는 것이 아니라 대입되는 값에 따라 달라지며, 이는 변수가 가리키는 주소를 알려주는 id 함수를 통해 확인할 수 있습니다."
      ],
      "metadata": {
        "id": "ZJnk4tpR06hx"
      }
    },
    {
      "cell_type": "markdown",
      "source": [
        "<img src =\"https://github.com/KimJEssam/tic-tac-toe/blob/main/stage10-1.png?raw=true\" width=500>"
      ],
      "metadata": {
        "id": "rPuD2RRk08j5"
      }
    },
    {
      "cell_type": "markdown",
      "source": [
        "위의 내용을 정확히 이해했다면 함수의 매개변수와 인수 사이의 관계를 보여주는 아래 코드의 실행 결과를 예상할 수 있겠죠? 실행 전 결과를 예상해본 다음 코드를 실행하여 맞는지 확인해주세요."
      ],
      "metadata": {
        "id": "w5ieLQ4p1LSp"
      }
    },
    {
      "cell_type": "markdown",
      "source": [
        "*실행 결과를 확인해보세요!*"
      ],
      "metadata": {
        "id": "7Sa5ySnh1M9z"
      }
    },
    {
      "cell_type": "code",
      "source": [
        "def inc(n):\n",
        "\tn = n + 1\n",
        "\tprint(n)\n",
        "\t\n",
        "data = 10\n",
        "inc(data)\n",
        "print(data)"
      ],
      "metadata": {
        "id": "uJQkypaH0qLS"
      },
      "execution_count": null,
      "outputs": []
    },
    {
      "cell_type": "markdown",
      "source": [
        "6행에서 inc 함수를 호출하면 변수 data와 호출된 함수의 매개변수인 n이 같은 공간을 가리키지만, 2행에서 n은 n에 1을 더한 결과값이 저장된 공간을 가리킵니다. 따라서 7행에서 변수 data를 출력하면 함수 안의 n이 증가한 것에 영향을 받지 않는다는 것을 알 수 있습니다."
      ],
      "metadata": {
        "id": "kuf8N2hgLku1"
      }
    },
    {
      "cell_type": "markdown",
      "source": [
        "**2. 리스트 변수의 개념**"
      ],
      "metadata": {
        "id": "zx-Sivsk1Z9M"
      }
    },
    {
      "cell_type": "markdown",
      "source": [
        "이번엔 리스트 변수는 어떻게 사용되는지 아래 예제를 통해 알아봅시다."
      ],
      "metadata": {
        "id": "mo738bBa1giE"
      }
    },
    {
      "cell_type": "markdown",
      "source": [
        "*실행 결과를 확인해보세요!*"
      ],
      "metadata": {
        "id": "JIxj9ur0LpcL"
      }
    },
    {
      "cell_type": "code",
      "source": [
        "L1 = [2, 3, 5, 7, 11]\n",
        "L2 = L1\n",
        "L2[0] = 13\n",
        "for d in L1:\n",
        "\tprint(d, end = ' ')\n",
        "print()\n",
        "for d in L2:\n",
        "\tprint(d, end = ' ')"
      ],
      "metadata": {
        "id": "RpNw9kESuPNY"
      },
      "execution_count": null,
      "outputs": []
    },
    {
      "cell_type": "markdown",
      "source": [
        "실행 결과가 예상과 같이 나오나요? 예상과 다른 결과를 보게 된다면 왜 그런지 생각해봅시다."
      ],
      "metadata": {
        "id": "XqHtBu4q4HVz"
      }
    },
    {
      "cell_type": "markdown",
      "source": [
        "두 변수가 같은 리스트를 참조하면서 L2의 맨 앞 요소의 값을 변경한 상황입니다. 여전히 두 변수는 같은 리스트를 참조하겠죠? 그래서 두 리스트의 출력 결과는 같습니다."
      ],
      "metadata": {
        "id": "m9nC7eNj4NfP"
      }
    },
    {
      "cell_type": "markdown",
      "source": [
        "<img src =\"https://github.com/KimJEssam/tic-tac-toe/blob/main/stage10-2.png?raw=true\" width=500>"
      ],
      "metadata": {
        "id": "QWqr1pVr1yTI"
      }
    },
    {
      "cell_type": "markdown",
      "source": [
        "L1을 별개의 공간을 확보해서 내용을 복사하는 것을 깊은 복사(deep copy)라고 합니다. 깊은 복사를 하고 싶다면 아래 코드의 2행처럼 작성하면 됩니다. "
      ],
      "metadata": {
        "id": "hidoT2nm4REQ"
      }
    },
    {
      "cell_type": "markdown",
      "source": [
        "우리가 구현 중인 틱택토 보드에는 사용하지 않지만 2차원 리스트라면 아래와 같은 방법으로 깊은 복사를 할 수 없습니다. 2차원 이상의 리스트를 깊은 복사하고 싶다면 copy 모듈의 deepcopy 함수를 사용할 수 있습니다. 자세한 내용은 파이썬 공식 문서 등에서 직접 찾아보세요."
      ],
      "metadata": {
        "id": "Q0uFchO84Uvh"
      }
    },
    {
      "cell_type": "markdown",
      "source": [
        "*실행 결과를 확인해보세요!*"
      ],
      "metadata": {
        "id": "AnYgYKsu4aS2"
      }
    },
    {
      "cell_type": "code",
      "source": [
        "L1 = [2, 3, 5, 7, 11]\n",
        "L2 = L1[:]\n",
        "L2[0] = 13\n",
        "for d in L1:\n",
        "\tprint(d, end = ' ')\n",
        "print()\n",
        "for d in L2:\n",
        "\tprint(d, end = ' ')"
      ],
      "metadata": {
        "id": "mTtRq-Zb4e2m"
      },
      "execution_count": null,
      "outputs": []
    },
    {
      "cell_type": "markdown",
      "source": [
        "<img src =\"https://github.com/KimJEssam/tic-tac-toe/blob/main/stage10-3.png?raw=true\" width=500>"
      ],
      "metadata": {
        "id": "vXMWg-XL4ibS"
      }
    },
    {
      "cell_type": "markdown",
      "source": [
        "이번 스테이지에서는 컴퓨터가 좀더 똑똑하게 플레이할 수 있도록 2가지 전략을 추가하고자 합니다."
      ],
      "metadata": {
        "id": "2__YVNz71ngj"
      }
    },
    {
      "cell_type": "markdown",
      "source": [
        "첫째, 컴퓨터가 하나를 더 뒀을 때 컴퓨터가 이길 위치가 있는지 찾아서 그 위치에 둡니다."
      ],
      "metadata": {
        "id": "kNnG5xYd2Kqa"
      }
    },
    {
      "cell_type": "markdown",
      "source": [
        "비어있는 곳에 컴퓨터가 두고 isWinner 함수를 이용해서 이길 수 있는지 확인합니다. 확인을 위해 임시로 두는 것이므로 원본 보드에 두지 말고 복사본을 만들어서 확인한 후에 이길 수 있는 위치를 찾으면 원본 보드를 변경해야 합니다."
      ],
      "metadata": {
        "id": "su9zme6u1qbQ"
      }
    },
    {
      "cell_type": "code",
      "source": [
        "def getComputerMove(board, stone):\n",
        "  print('컴퓨터가 둡니다.')\n",
        "  \n",
        "  #컴퓨터가 두면 이길 위치를 찾아둔다.\n",
        "\t\n",
        "  #각각의 칸에 대해 반복한다.\n",
        "  for i in range(1, 10):\n",
        "\t\t#빈칸이면\n",
        "    if board[i] == '-':\n",
        "\t\t\t#복사본을 만들어서\n",
        "      copyBoard = board[:]\n",
        "\t\t\t#복사본에 돌을 둔다.\n",
        "      copyBoard[i] = COMPUTER_STONE\n",
        "\t\t\t#그 위치에 두면 이길 수 있으면\n",
        "      if isWinner(copyBoard, COMPUTER_STONE):\n",
        "\t\t\t\t#원본 보드에 돌을 두고\n",
        "        board[i] = COMPUTER_STONE\n",
        "\t\t\t\t#호출한 곳으로 돌아간다.\n",
        "        return   "
      ],
      "metadata": {
        "id": "ugQ4L3RJ1p-H"
      },
      "execution_count": null,
      "outputs": []
    },
    {
      "cell_type": "markdown",
      "source": [
        "두 번째 전략은 플레이어가 두면 이길 위치가 있는지 찾아 막는 것입니다. 직접 고민한 뒤 코드를 작성해보세요."
      ],
      "metadata": {
        "id": "y0tqNGRd2bNO"
      }
    },
    {
      "cell_type": "markdown",
      "source": [
        "**실습내용**"
      ],
      "metadata": {
        "id": "m38zS1A0xTJH"
      }
    },
    {
      "cell_type": "markdown",
      "source": [
        "[컴퓨터와의 대결 버전] 두 번째 단계입니다. 아래 설명과 실행 예시를 참고해서 코드를 완성하세요.\n",
        "\n",
        "1. 컴퓨터가 두면 이길 위치를 앞에서부터 찾아서 두도록 하고, 그런 자리가 없다면 다음 차례에서 플레이어가 두면 이길 위치를 찾아 둡니다. 두 경우 모두 만족하는 경우가 없으면 이전 스테이지처럼 앞에서부터 빈자리를 찾아 둡니다. 그 외에도 추가할 작전은 이후 스테이지로 미뤄두겠습니다.\n",
        "2. 다른 부분은 이전 스테이지와 동일합니다.\n",
        "\n"
      ],
      "metadata": {
        "id": "R2yZFMEoxYmt"
      }
    },
    {
      "cell_type": "markdown",
      "source": [
        "실행화면 예시"
      ],
      "metadata": {
        "id": "RqF5DCpPVTbM"
      }
    },
    {
      "cell_type": "markdown",
      "source": [
        "<img src =\"https://github.com/KimJEssam/tic-tac-toe/blob/main/stage10-4.png?raw=true\" width=900>\n",
        "<img src =\"https://github.com/KimJEssam/tic-tac-toe/blob/main/stage10-5.png?raw=true\" width=900>\n",
        "<img src =\"https://github.com/KimJEssam/tic-tac-toe/blob/main/stage10-6.png?raw=true\" width=900>\n",
        "<img src =\"https://github.com/KimJEssam/tic-tac-toe/blob/main/stage10-7.png?raw=true\" width=900>\n",
        "<img src =\"https://github.com/KimJEssam/tic-tac-toe/blob/main/stage10-8.png?raw=true\" width=900>"
      ],
      "metadata": {
        "id": "Df0VE96oierQ"
      }
    },
    {
      "cell_type": "markdown",
      "source": [
        "**프로그램** "
      ],
      "metadata": {
        "id": "-I9OK0atqmV5"
      }
    },
    {
      "cell_type": "markdown",
      "source": [
        "<img src =\"https://github.com/KimJEssam/tic-tac-toe/blob/main/stage10-9.png?raw=true\" width=1024>\n",
        "<img src =\"https://github.com/KimJEssam/tic-tac-toe/blob/main/stage10-10.png?raw=true\" width=1024>\n",
        "<img src =\"https://github.com/KimJEssam/tic-tac-toe/blob/main/stage10-11.png?raw=true\" width=1024>\n",
        "<img src =\"https://github.com/KimJEssam/tic-tac-toe/blob/main/stage10-12.png?raw=true\" width=1024>"
      ],
      "metadata": {
        "id": "37bmyHkl0FXW"
      }
    },
    {
      "cell_type": "markdown",
      "source": [
        "실행예시를 참고해서 @@@@@@@@@@을 완성하세요.\n"
      ],
      "metadata": {
        "id": "e4kveHs9XikU"
      }
    },
    {
      "cell_type": "code",
      "source": [
        "#'O'와 'X'를 좀더 이해하기 쉽게 PLAYER_STONE과 COMPUTER_STONE 변수에 넣어 사용함\n",
        "PLAYER_STONE = 'O'\n",
        "COMPUTER_STONE = 'X'\n",
        "\n",
        "#게임에 관해 안내한다.\n",
        "def printInfo():\n",
        "\tprint(\"[Player-Computer Version]\")\n",
        "\tprint(\"틱택토(tic-tac-toe) 두 명이 번갈아가며 'O'와 'X'를 3×3 판에 써서 같은 글자를 가로, 세로, 혹은 대각선 상에 놓이도록 하는 놀이입니다.\")\n",
        "\tprint(\"플레이어는 'O', 컴퓨터는 'X'를 사용합니다.\")\n",
        "\tprint(\"위치 선택은 아래와 같이 키보드의 숫자 키패드를 이용하세요.\")\n",
        "\tprint(\"---------\")\n",
        "\tprint(\"| 7 8 9 |\")\n",
        "\tprint(\"| 4 5 6 |\")\n",
        "\tprint(\"| 1 2 3 |\")\n",
        "\tprint(\"---------\")\n",
        "\n",
        "\n",
        "#보드의 내용을 화면에 출력한다.\n",
        "def drawBoard(board):\n",
        "\tprint(\"---------\")\n",
        "\tprint(\"|\", board[7], board[8], board[9], \"|\")\n",
        "\tprint(\"|\", board[4], board[5], board[6], \"|\")\n",
        "\tprint(\"|\", board[1], board[2], board[3], \"|\")\n",
        "\tprint(\"---------\")  \n",
        "\n",
        "  \n",
        "#플레이어로부터 위치를 입력받는다.\n",
        "def getPlayerMove(board, stone):\n",
        "\twhile True:\n",
        "\t\tinData = input('위치를 선택하세요. ')\n",
        "\t\tif len(inData) == 1 and '1' <= inData <= '9':\n",
        "\t\t\tpos = int(inData)  \n",
        "\t\t\tif board[pos] == '-':\n",
        "\t\t\t\tboard[pos] = stone\n",
        "\t\t\t\tbreak\n",
        "\t\tprint('잘못 선택하셨습니다. 비어있는 칸을 숫자로 입력하세요.')\n",
        "\n",
        "\n",
        "#컴퓨터가 위치를 선택하게 한다.\n",
        "def getComputerMove(board, stone):\n",
        "\tprint('컴퓨터가 둡니다.')\n",
        "\n",
        "\t#컴퓨터가 두면 이길 위치를 찾아둔다.\n",
        "\tfor i in range(1, 10):\n",
        "\t\tif board[i] == '-':\n",
        "\t\t\tcopyBoard = board[:]\n",
        "\t\t\tcopyBoard[i] = COMPUTER_STONE\n",
        "\t\t\tif isWinner(copyBoard, COMPUTER_STONE):\n",
        "\t\t\t\tboard[i] = COMPUTER_STONE\n",
        "\t\t\t\treturn\n",
        "\n",
        "\t#플레이어가 두면 이길 위치를 찾아둔다.\n",
        "\t'''@@@@@@@@@@'''\n",
        "\n",
        "\t#앞에서부터 빈자리를 찾아 둡니다.\n",
        "\tfor i in range(1, 10):\n",
        "\t\tif board[i] == '-':\n",
        "\t\t\tboard[i] = stone\n",
        "\t\t\tbreak\n",
        "\n",
        "\n",
        "#보드에 놓여진 돌의 개수를 리턴한다.\n",
        "def numberOfStone(board):\n",
        "\tn = 0\n",
        "\tfor c in board:\n",
        "\t\tif c != '-':\n",
        "\t\t\tn = n + 1\n",
        "\treturn n\n",
        "\n",
        "\n",
        "#보드에서 stone('O' 또는 'X')가 연속해서 3개 놓여졌는지 여부(True 또는 False)를 리턴한다.\n",
        "def isWinner(board, stone):\n",
        "\n",
        "\t#가로 세 행 확인\n",
        "\tfor i in [1, 4, 7]:\n",
        "\t\tif board[i] == stone and board[i + 1] == stone and board[i + 2] == stone:\n",
        "\t\t\treturn True\n",
        "\n",
        "\t#세로 세 열 확인\n",
        "\tfor i in [1, 2, 3]:\n",
        "\t\tif board[i] == stone and board[i + 3] == stone and board[i + 6] == stone:\n",
        "\t\t\treturn True\n",
        "\n",
        "\t#대각선(오른쪽 위에서 왼쪽 아래)\n",
        "\tif board[1] == stone and board[5] == stone and board[9] == stone:\n",
        "\t\treturn True\n",
        "\n",
        "\t#대각선(왼쪽 위에서 오른쪽 아래)\n",
        "\tif board[7] == stone and board[5] == stone and board[3] == stone:\n",
        "\t\treturn True\n",
        "\n",
        "\treturn False\n",
        "\n",
        "\n",
        "#틱택토 1게임을 진행합니다.\n",
        "def ticTacToe():\n",
        "\n",
        "\t#빈 틱택토 보드를 표현하기 위해서 '-'로 10개의 요소를 채운 리스트를 만듭니다.\n",
        "\t#위치 정보와 리스트의 인덱스를 일치시키기 위해 10개의 요소를 채우고, 이후에 맨 앞(인덱스 0) 요소는 사용하지 않습니다.\n",
        "\ttttBoard = ['-'] * 10\n",
        "\n",
        "\tdrawBoard(tttBoard)\n",
        "\n",
        "\tprint('플레이어부터 시작합니다.')\n",
        "\n",
        "\twhile True:\n",
        "\t\tgetPlayerMove(tttBoard, PLAYER_STONE)  \n",
        "\t\tdrawBoard(tttBoard)\n",
        "\n",
        "\t\tif isWinner(tttBoard, PLAYER_STONE):\n",
        "\t\t\tprint(\"축하합니다. 당신이 이겼어요!\")\n",
        "\t\t\treturn PLAYER_STONE\n",
        "\n",
        "\t\tif numberOfStone(tttBoard) >= 9:\n",
        "\t\t\tprint(\"비겼습니다.\")\n",
        "\t\t\treturn '-'\n",
        "\n",
        "\t\tgetComputerMove(tttBoard, COMPUTER_STONE)  \n",
        "\t\tdrawBoard(tttBoard)\n",
        "\n",
        "\t\tif isWinner(tttBoard, COMPUTER_STONE):\n",
        "\t\t\tprint(\"아쉽군요. 컴퓨터가 이겼습니다.\")\n",
        "\t\t\treturn COMPUTER_STONE\n",
        "\n",
        "\t\tif numberOfStone(tttBoard) >= 9:\n",
        "\t\t\tprint(\"비겼습니다.\")\n",
        "\t\t\treturn '-'\n",
        "\n",
        "\n",
        "\n",
        "printInfo()\n",
        "\n",
        "resultList = []\n",
        "\n",
        "while True:\n",
        "\tresult = ticTacToe()\n",
        "\tresultList.append(result)\n",
        "\n",
        "\tisContinued = input(\"한 게임 더 진행할까요?(y/n) \")\n",
        "\tif isContinued == 'n':\n",
        "\t\tbreak\n",
        "\n",
        "print('\\n[게임 전적]')\n",
        "print(resultList.count(PLAYER_STONE), '승 ', resultList.count('-'), '무 ', resultList.count(COMPUTER_STONE), '패', sep = '')"
      ],
      "metadata": {
        "id": "EB92YwB7qaYX"
      },
      "execution_count": null,
      "outputs": []
    }
  ]
}