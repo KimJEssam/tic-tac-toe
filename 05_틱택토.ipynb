{
  "nbformat": 4,
  "nbformat_minor": 0,
  "metadata": {
    "colab": {
      "provenance": [],
      "authorship_tag": "ABX9TyM3NwAZ97e6IZcqbaWU15Du",
      "include_colab_link": true
    },
    "kernelspec": {
      "name": "python3",
      "display_name": "Python 3"
    },
    "language_info": {
      "name": "python"
    }
  },
  "cells": [
    {
      "cell_type": "markdown",
      "metadata": {
        "id": "view-in-github",
        "colab_type": "text"
      },
      "source": [
        "<a href=\"https://colab.research.google.com/github/KimJEssam/tic-tac-toe/blob/main/05_%ED%8B%B1%ED%83%9D%ED%86%A0.ipynb\" target=\"_parent\"><img src=\"https://colab.research.google.com/assets/colab-badge.svg\" alt=\"Open In Colab\"/></a>"
      ]
    },
    {
      "cell_type": "markdown",
      "source": [
        "#**Stage5. 부품준비**\n",
        "---\n",
        "\n",
        "\n",
        "<img src=\"https://github.com/KimJEssam/firstTest/blob/main/%EB%AA%A8%EB%93%A0%EC%82%AC%EB%9E%8C%EC%9D%B4%20%EC%BD%94%EB%94%A9%EC%9D%84.png?raw=true\" width=300>"
      ],
      "metadata": {
        "id": "uprygpfSFQLi"
      }
    },
    {
      "cell_type": "markdown",
      "source": [
        "Stage4에서 몇 줄의 코드가 중복 작성되어 있는 것을 발견하셨나요? 여러 번 사용되는 코드를 딱 한 번만 정의하고, 정의한 코드를 불러와 사용할 수 있다면 더 효율적일 겁니다."
      ],
      "metadata": {
        "id": "lT6hDlrfHg7R"
      }
    },
    {
      "cell_type": "markdown",
      "source": [
        "이번 스테이지에서는 Stage4에서 실습했던 코드 중 재사용 가능한 코드들을 묶는 작업 등을 통해 프로그램을 좀 더 구조화하려 합니다. 즉, 하나의 기능으로 분리할 수 있는 논리적인 단위를 정하고, 이것을 기계의 부품처럼 만들어보겠습니다."
      ],
      "metadata": {
        "id": "xu021roxe_O4"
      }
    },
    {
      "cell_type": "markdown",
      "source": [
        "**함수**"
      ],
      "metadata": {
        "id": "bwZRqyUyu7Sy"
      }
    },
    {
      "cell_type": "markdown",
      "source": [
        "이전 스테이지까지의 코드는 기본적으로 위에서 아래로 실행되었습니다. 반복문(for 또는 while)은 일정 영역을 반복해서 실행하지만 제어 흐름을 근본적으로 바꿀 수는 없죠."
      ],
      "metadata": {
        "id": "rUyYmosZu2HB"
      }
    },
    {
      "cell_type": "markdown",
      "source": [
        "함수는 코드를 하나로 묶는 단위입니다. 언제든지 해당 기능이 필요하면 정의된 함수를 불러와 반복 사용할 수 있습니다."
      ],
      "metadata": {
        "id": "Uwo1wJnPfuDi"
      }
    },
    {
      "cell_type": "markdown",
      "source": [
        "함수는 단지 재사용할 수 있다는 이유로 사용하지 않습니다. 코드의 일정 부분이 별도의 논리적 개념으로 분리할 수 있을 때 함수로 분리합니다. 즉, 함수는 코드를 재사용할 수 있게 해주고 프로그램을 논리적으로 구성하도록 돕습니다."
      ],
      "metadata": {
        "id": "XvMhAjZBfvNB"
      }
    },
    {
      "cell_type": "markdown",
      "source": [
        "생소하신가요? 여러분은 이미 몇 개의 함수를 사용해보았습니다. 바로 input 과 print 함수죠."
      ],
      "metadata": {
        "id": "U6IUY1Prf4pp"
      }
    },
    {
      "cell_type": "markdown",
      "source": [
        "*실행 결과를 확인해 보세요!*"
      ],
      "metadata": {
        "id": "8LBJ8c_vgC6i"
      }
    },
    {
      "cell_type": "code",
      "source": [
        "data = input('무엇이든 입력하세요. ')\n",
        "print(data)"
      ],
      "metadata": {
        "id": "dg3zWNSdf23v"
      },
      "execution_count": null,
      "outputs": []
    },
    {
      "cell_type": "markdown",
      "source": [
        " 함수는 괄호 안의 문자열을 출력한 후 키보드로부터 엔터키가 들어오면 엔터키 이전까지 입력된 내용을 되돌려줍니다. 반면 print  함수는 괄호 안의 내용을 화면에 출력하고 줄을 바꿉니다. 이렇게 파이썬은 프로그램을 작성하기 수월하도록 기본 함수로 정의하여 제공하는데, 이런 기본 함수를 내장함수라고 합니다."
      ],
      "metadata": {
        "id": "K1RzIo8TS34g"
      }
    },
    {
      "cell_type": "markdown",
      "source": [
        "물론 내장함수만으로 모든 코드를 짤 수는 없습니다. 필요에 따라 여러분이 직접 함수를 만들어서, 즉 정의해서 사용할 수 있습니다. 사용자 정의 함수라고 부르며 함수를 정의하는 형식은 그림과 같습니다."
      ],
      "metadata": {
        "id": "YiPJydDWgRBw"
      }
    },
    {
      "cell_type": "markdown",
      "source": [
        "<img src=\"https://github.com/KimJEssam/tic-tac-toe/blob/main/stage5-1.png?raw=true\" width=300>\n"
      ],
      "metadata": {
        "id": "0M2DZy0GgS0B"
      }
    },
    {
      "cell_type": "markdown",
      "source": [
        "모든 함수는 함수 이름 뒤에 괄호가 있습니다. 괄호 안에 함수마다 정해진 인자를 넣어 정보를 넘겨주면 함수의 기능을 수행하고 마지막에 값을 되돌려줍니다. print  함수는 아무 것도 돌려주지 않는 것 같지만 None이라는 객체를 돌려주죠."
      ],
      "metadata": {
        "id": "eApX297Cg29e"
      }
    },
    {
      "cell_type": "markdown",
      "source": [
        "자, 함수 정의를 위해 필요한 것과 그 설명을 표로 적어보았습니다. 위 그림과 함께 꼭 살펴보고 숙지해주세요!"
      ],
      "metadata": {
        "id": "v5mRfct_g3qO"
      }
    },
    {
      "cell_type": "markdown",
      "source": [],
      "metadata": {
        "id": "hwZLS4W_hD7m"
      }
    },
    {
      "cell_type": "markdown",
      "source": [
        "<img src=\"https://github.com/KimJEssam/tic-tac-toe/blob/main/stage5-2.png?raw=true\" width=900>"
      ],
      "metadata": {
        "id": "ToYsx8FdvlJe"
      }
    },
    {
      "cell_type": "markdown",
      "source": [
        "아래 코드 중 triangleArea 함수는 매개변수와 리턴값이 모두 있는 함수입니다. 함수를 호출하는 8행과 함수 정의 부분을 함께 확인하고 실행해보세요."
      ],
      "metadata": {
        "id": "oM3UXNIUhcM4"
      }
    },
    {
      "cell_type": "markdown",
      "source": [
        "*실행 결과를 확인해보세요!*"
      ],
      "metadata": {
        "id": "7ntwAtAqhiLU"
      }
    },
    {
      "cell_type": "code",
      "source": [
        "def triangleArea(width, height):\n",
        "\tresult = width * height / 2\n",
        "\treturn result\n",
        "\n",
        "w = int(input(\"삼각형의 밑면: \"))\n",
        "h = int(input(\"삼각형의 높이: \"))\n",
        "\n",
        "area = triangleArea(w, h)\n",
        "print(\"삼각형의 넓이:\", area)"
      ],
      "metadata": {
        "id": "b-Rqew4bvhe9"
      },
      "execution_count": null,
      "outputs": []
    },
    {
      "cell_type": "markdown",
      "source": [
        "정의한 함수의 이름은 triangleArea입니다. 이 함수는 삼각형의 밑면과 높이, 두 개의 값을 넘겨받아 삼각형의 넓이를 계산한 후 계산된 값을 리턴합니다."
      ],
      "metadata": {
        "id": "jg2XzX0qv1wu"
      }
    },
    {
      "cell_type": "markdown",
      "source": [
        "함수를 정의했다면 사용, 즉 호출해야겠죠? 함수 밖 어디선가 이 함수를 호출해야 함수 안의 코드가 실행됩니다. 위의 프로그램에서는 8행에서 triangleArea 함수를 호출하고 리턴값을 area 변수에 저장합니다."
      ],
      "metadata": {
        "id": "e6KvSfonhtQW"
      }
    },
    {
      "cell_type": "markdown",
      "source": [
        "아래 예제는 리턴문이 없는 함수의 정의와 호출 예입니다. 실행해보세요."
      ],
      "metadata": {
        "id": "6nM3TE2Ehx1y"
      }
    },
    {
      "cell_type": "code",
      "source": [
        "def sayHello(name):\n",
        "\tprint('Hello, ', name, '!', sep = '')\n",
        "\n",
        "sayHello('everyone')\n",
        "\n",
        "person = input('이름? ')\n",
        "sayHello(person)\t"
      ],
      "metadata": {
        "id": "p9SLWIYXh7Zu"
      },
      "execution_count": null,
      "outputs": []
    },
    {
      "cell_type": "markdown",
      "source": [
        "4행에서는 sayHello 함수를 호출할 때 문자열 'everyone'을 넘겨주었고, 7행에서는 변수 person에 저장된 값을 넘겨줍니다. 다시 한번 강조하지만 1행과 2행에서 정의된 sayHello 함수는 정의된 것 자체로는 어떤 실행도 일어나지 않습니다. 4행과 7행에서 함수를 호출하면 그때 함수에서 정의한 일을 수행하게 됩니다."
      ],
      "metadata": {
        "id": "Zdt5g5RBiAVU"
      }
    },
    {
      "cell_type": "markdown",
      "source": [
        "1행과 2행은 sayHello 함수를 정의하는 구문이며, 4행과 7행은 sayHello 함수를 호출(실행)하는 구문입니다."
      ],
      "metadata": {
        "id": "RbC6HKbjiE4S"
      }
    },
    {
      "cell_type": "markdown",
      "source": [],
      "metadata": {
        "id": "RBgHTAjyiG4U"
      }
    },
    {
      "cell_type": "code",
      "source": [
        "지금까지 학습한 내용을 바탕으로 프로그램을 개선해보세요."
      ],
      "metadata": {
        "id": "L3SGE3SFiI2a"
      },
      "execution_count": null,
      "outputs": []
    },
    {
      "cell_type": "markdown",
      "source": [
        "**실습내용**"
      ],
      "metadata": {
        "id": "m38zS1A0xTJH"
      }
    },
    {
      "cell_type": "markdown",
      "source": [
        "틱택토 게임을 구현하기 위한 네 번째 단계입니다. 이제까지 배운 내용을 떠올리며 아래 설명과 실행 예시를 참고하여 코드를 완성하세요.\n",
        "\n",
        "1. 실행 과정은 이전 스테이지와 동일합니다.\n",
        "2.  아래 함수들을 정의해서 좀더 구조화된 프로그램을 작성합니다.\n",
        "\n",
        "\n",
        "\n",
        "\n"
      ],
      "metadata": {
        "id": "R2yZFMEoxYmt"
      }
    },
    {
      "cell_type": "markdown",
      "source": [
        "<img src =\"https://github.com/KimJEssam/tic-tac-toe/blob/main/stage5-3.png?raw=true\" width=900>"
      ],
      "metadata": {
        "id": "Df0VE96oierQ"
      }
    },
    {
      "cell_type": "code",
      "source": [],
      "metadata": {
        "id": "NbMyHB-ii2ab"
      },
      "execution_count": null,
      "outputs": []
    },
    {
      "cell_type": "markdown",
      "source": [
        "실행화면 예시"
      ],
      "metadata": {
        "id": "RqF5DCpPVTbM"
      }
    },
    {
      "cell_type": "markdown",
      "source": [
        "<img src =\"https://github.com/KimJEssam/tic-tac-toe/blob/main/stage5-4.png?raw=true\" width=600>"
      ],
      "metadata": {
        "id": "s8Ork57LGbI5"
      }
    },
    {
      "cell_type": "markdown",
      "source": [
        "**프로그램** "
      ],
      "metadata": {
        "id": "-I9OK0atqmV5"
      }
    },
    {
      "cell_type": "markdown",
      "source": [
        "<img src =\"https://github.com/KimJEssam/tic-tac-toe/blob/main/stage5-5.png?raw=true\" width=1024>\n",
        "<img src =\"https://github.com/KimJEssam/tic-tac-toe/blob/main/stage5-6.png?raw=true\" width=1024>"
      ],
      "metadata": {
        "id": "37bmyHkl0FXW"
      }
    },
    {
      "cell_type": "markdown",
      "source": [
        "실행예시를 참고해서 @@@@@@@@@@을 완성하세요.\n"
      ],
      "metadata": {
        "id": "e4kveHs9XikU"
      }
    },
    {
      "cell_type": "code",
      "source": [
        "#게임에 관해 안내합니다.\n",
        "'''@@@@@@@@@@'''\n",
        "\tprint(\"[2-Player Version]\")\n",
        "\tprint(\"틱택토(tic-tac-toe)는 두 명이 번갈아가며 'O'와 'X'를 3×3 판에 써서 같은 글자를 가로, 세로, 혹은 대각선 상에 놓이도록 하는 놀이입니다.\")\n",
        "\tprint(\"위치 선택은 아래와 같이 키보드의 숫자 키패드를 이용하세요.\")\n",
        "\tprint(\"---------\")\n",
        "\tprint(\"| 7 8 9 |\")\n",
        "\tprint(\"| 4 5 6 |\")\n",
        "\tprint(\"| 1 2 3 |\")\n",
        "\tprint(\"---------\")\n",
        "\tprint(\"게임을 시작합니다.\")\n",
        "\n",
        "\n",
        "#보드의 내용을 화면에 보여줍니다.\n",
        "def drawBoard(board):\n",
        "\tprint(\"---------\")\n",
        "\tprint(\"|\", board[7], board[8], board[9], \"|\")\n",
        "\tprint(\"|\", board[4], board[5], board[6], \"|\")\n",
        "\tprint(\"|\", board[1], board[2], board[3], \"|\")\n",
        "\tprint(\"---------\")  \n",
        "\n",
        "\n",
        "#보드에 놓여진 돌의 개수를 리턴합니다.\n",
        "def numberOfStone(board):\n",
        "\tn = 0 #놓여진 돌의 개수를 세기 위한 변수\n",
        "\tfor c in board:\n",
        "\t\t'''@@@@@@@@@@''':\n",
        "\t\t\tn = n + 1\n",
        "\t'''@@@@@@@@@@'''\n",
        "\n",
        "\n",
        "#틱택토 1게임을 진행합니다.\n",
        "def ticTacToe():\n",
        "\tcurrentStone = 'O' #먼저 두는 사람이 'O', 뒤에 두는 사람이 'X'를 두는 것으로 정함\n",
        "\n",
        "\t#빈 틱택토 보드를 표현하기 위해서 '-'로 10개의 요소를 채운 리스트를 만듭니다.\n",
        "\t#위치 정보와 리스트의 인덱스를 일치시키기 위해 10개의 요소를 채우고, 이후에 맨 앞(인덱스 0) 요소는 사용하지 않습니다.\n",
        "\ttttBoard = ['-'] * 10\n",
        "\n",
        "\tprintInfo()\n",
        "\tdrawBoard(tttBoard)\n",
        "\n",
        "\twhile True:\n",
        "\t\tinData = input(currentStone + '님, 위치를 선택하세요. ')\n",
        "\t\tpos = int(inData)\n",
        "\n",
        "\t\ttttBoard[pos] = currentStone\n",
        "\n",
        "\t\t'''@@@@@@@@@@'''\n",
        "\n",
        "\t\tif numberOfStone(tttBoard) >= 9:\n",
        "\t\t\tbreak\n",
        "\n",
        "\t\tif currentStone == 'O':\n",
        "\t\t\tcurrentStone = 'X'\n",
        "\t\telse:\n",
        "\t\t\tcurrentStone = 'O'\n",
        "\n",
        "\n",
        "#틱택토 1게임 실행을 위해 함수를 호출합니다.\n",
        "'''@@@@@@@@@@'''"
      ],
      "metadata": {
        "id": "EB92YwB7qaYX"
      },
      "execution_count": null,
      "outputs": []
    }
  ]
}