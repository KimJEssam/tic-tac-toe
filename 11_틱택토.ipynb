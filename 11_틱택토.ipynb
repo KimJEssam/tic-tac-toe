{
  "nbformat": 4,
  "nbformat_minor": 0,
  "metadata": {
    "colab": {
      "provenance": [],
      "authorship_tag": "ABX9TyNqgFRQNkZPQBT7om9AFPPG",
      "include_colab_link": true
    },
    "kernelspec": {
      "name": "python3",
      "display_name": "Python 3"
    },
    "language_info": {
      "name": "python"
    }
  },
  "cells": [
    {
      "cell_type": "markdown",
      "metadata": {
        "id": "view-in-github",
        "colab_type": "text"
      },
      "source": [
        "<a href=\"https://colab.research.google.com/github/KimJEssam/tic-tac-toe/blob/main/11_%ED%8B%B1%ED%83%9D%ED%86%A0.ipynb\" target=\"_parent\"><img src=\"https://colab.research.google.com/assets/colab-badge.svg\" alt=\"Open In Colab\"/></a>"
      ]
    },
    {
      "cell_type": "markdown",
      "source": [
        "#**Stage11. 공정한 게임**\n",
        "---\n",
        "\n",
        "\n",
        "<img src=\"https://github.com/KimJEssam/firstTest/blob/main/%EB%A7%8C%EC%9D%BC%20%EC%97%AC%EB%9F%AC%EB%B6%84%EC%9D%B4%20%EC%BD%94%EB%93%9C%EB%A5%BC%20%EC%A7%A4%20%EC%88%98%20%EC%9E%88%EA%B2%8C%EB%90%9C%EB%8B%A4%EB%A9%B4.png?raw=true\" width=400>"
      ],
      "metadata": {
        "id": "uprygpfSFQLi"
      }
    },
    {
      "cell_type": "markdown",
      "source": [
        "이전 스테이지까지는 항상 플레이어가 먼저 시작했습니다. 하지만, 먼저 시작하는 쪽이 한 번 더 둘 기회를 가지니 유리할 수 밖에 없습니다. 이제 랜덤하게 순서를 정해서 공정하게 게임을 진행해봅시다.\n",
        "\n",
        "\n",
        "---\n",
        "\n",
        "\n"
      ],
      "metadata": {
        "id": "lT6hDlrfHg7R"
      }
    },
    {
      "cell_type": "markdown",
      "source": [
        "**random 모듈**"
      ],
      "metadata": {
        "id": "bwZRqyUyu7Sy"
      }
    },
    {
      "cell_type": "markdown",
      "source": [
        "파이썬의 모듈은 여러 가지 관련 기능(함수, 변수, 클래스)을 묶어서 제공해주는 단위입니다. 파이썬의 내장 함수만으로 해결하기 힘든 많은 부분은 이미 모듈로 제공되고 있습니다. 예를 들어 GUI(그래픽 사용자 인터페이스)를 지원하는 tkinter 모듈, 빅데이터 처리를 위한 pandas 모듈, 인공지능과 관련된 많은 기능을 제공해주는 tensorflow 등이 있습니다."
      ],
      "metadata": {
        "id": "-DqbDYz4LgjE"
      }
    },
    {
      "cell_type": "markdown",
      "source": [
        "파이썬에서 무작위 숫자를 생성하거나 무작위 선택을 하기 위해 random 모듈을 사용할 수 있습니다. random 모듈 중 많이 사용되는 함수를 예제를 통해 배워보려 합니다."
      ],
      "metadata": {
        "id": "SCYaGbqH8XA3"
      }
    },
    {
      "cell_type": "markdown",
      "source": [
        "예제를 살펴보기 전에 외부 모듈 사용 규칙 2가지만 먼저 알려드리겠습니다."
      ],
      "metadata": {
        "id": "vYrMNJKW8aqA"
      }
    },
    {
      "cell_type": "markdown",
      "source": [
        "* 모듈을 사용하기 전에 가져오기(import)를 해야 한다.\n",
        "* 모듈에 포함된 함수를 사용할 때는 [모듈명.함수명]의 형식으로 사용한다.\n"
      ],
      "metadata": {
        "id": "i023g3Oe8f1T"
      }
    },
    {
      "cell_type": "markdown",
      "source": [
        "*실행 결과를 확인해보세요!*"
      ],
      "metadata": {
        "id": "jjza39zc0zAL"
      }
    },
    {
      "cell_type": "code",
      "source": [
        "#random 모듈을 가져온다.\n",
        "import random\n",
        "\n",
        "print('0이상 1미만의 랜덤한 실수: ', random.random())\n",
        "print('1이상 5이하의 랜덤한 정수: ', random.randint(1, 5))\n",
        "print('순서있는 자료(리스트 등)에서 임의의 요소 반환:', random.choice(['red', 'blue', 'green']))\n",
        "\n",
        "L = list(range(1,10))  #L = [1, 2, 3, 4, 5, 6, 7, 8, 9]\n",
        "random.shuffle(L)\n",
        "print('랜덤하게 섞인 리스트: ', end = ' ')\n",
        "for d in L:\n",
        "\tprint(d, end = ' ')\n",
        "\t\n",
        "selL = random.sample(L, 3)\n",
        "print('\\n순서있는 자료(리스트 등)에서 개수 정해서 선택:', end = ' ' )\n",
        "for d in selL:\n",
        "\tprint(d, end = ' ')"
      ],
      "metadata": {
        "id": "tlbPuANQ0xVD"
      },
      "execution_count": null,
      "outputs": []
    },
    {
      "cell_type": "markdown",
      "source": [
        "\n",
        "\n",
        "---\n",
        "\n",
        "\n",
        "누가 시작할 지 순서를 무작위로 정해 시작할 수 있도록 프로그램을 개선해주세요."
      ],
      "metadata": {
        "id": "ZJnk4tpR06hx"
      }
    },
    {
      "cell_type": "markdown",
      "source": [
        "**실습내용**"
      ],
      "metadata": {
        "id": "m38zS1A0xTJH"
      }
    },
    {
      "cell_type": "markdown",
      "source": [
        "[컴퓨터와의 대결 버전] 세 번째 단계입니다. 아래 설명과 실행 예시를 참고해서 코드를 완성하세요.\n",
        "\n",
        "1. 누가 먼저 시작할지를 결정해서 리턴하는 whoIsFirst 함수를 완성합니다. 리턴값은 'O' 또는 'X' 중 랜덤하게 선택된 값입니다.\n",
        "2. ticTacToe 함수에서 whoIsFirst 함수를 호출해서 누가 먼저 시작할 지 결정하고, 결정된 대로 진행할 수 있도록 코드를 수정합니다.\n",
        "3. 다른 부분은 이전 스테이지와 동일합니다.\n"
      ],
      "metadata": {
        "id": "R2yZFMEoxYmt"
      }
    },
    {
      "cell_type": "markdown",
      "source": [
        "실행화면 예시"
      ],
      "metadata": {
        "id": "RqF5DCpPVTbM"
      }
    },
    {
      "cell_type": "markdown",
      "source": [
        "<img src =\"https://github.com/KimJEssam/tic-tac-toe/blob/main/stage11-1.png?raw=true\" width=900>\n",
        "<img src =\"https://github.com/KimJEssam/tic-tac-toe/blob/main/stage11-2.png?raw=true\" width=900>\n",
        "<img src =\"https://github.com/KimJEssam/tic-tac-toe/blob/main/stage11-3.png?raw=true\" width=900>\n",
        "<img src =\"https://github.com/KimJEssam/tic-tac-toe/blob/main/stage11-4.png?raw=true\" width=900>\n",
        "<img src =\"https://github.com/KimJEssam/tic-tac-toe/blob/main/stage11-5.png?raw=true\" width=900>\n",
        "<img src =\"https://github.com/KimJEssam/tic-tac-toe/blob/main/stage11-6.png?raw=true\" width=900>\n",
        "<img src =\"https://github.com/KimJEssam/tic-tac-toe/blob/main/stage11-7.png?raw=true\" width=900>"
      ],
      "metadata": {
        "id": "Df0VE96oierQ"
      }
    },
    {
      "cell_type": "markdown",
      "source": [
        "**프로그램** "
      ],
      "metadata": {
        "id": "-I9OK0atqmV5"
      }
    },
    {
      "cell_type": "markdown",
      "source": [
        "<img src =\"https://github.com/KimJEssam/tic-tac-toe/blob/main/stage11-8.png?raw=true\" width=1024>\n",
        "<img src =\"https://github.com/KimJEssam/tic-tac-toe/blob/main/stage11-9.png?raw=true\" width=1024>\n",
        "<img src =\"https://github.com/KimJEssam/tic-tac-toe/blob/main/stage11-10.png?raw=true\" width=1024>\n",
        "<img src =\"https://github.com/KimJEssam/tic-tac-toe/blob/main/stage11-11.png?raw=true\" width=1024>\n",
        "<img src =\"https://github.com/KimJEssam/tic-tac-toe/blob/main/stage11-12.png?raw=true\" width=1024>"
      ],
      "metadata": {
        "id": "37bmyHkl0FXW"
      }
    },
    {
      "cell_type": "markdown",
      "source": [
        "실행예시를 참고해서 @@@@@@@@@@을 완성하세요.\n"
      ],
      "metadata": {
        "id": "e4kveHs9XikU"
      }
    },
    {
      "cell_type": "code",
      "source": [
        "'''@@@@@@@@@@'''\n",
        "\n",
        "#'O'와 'X'를 좀더 이해하기 쉽게 PLAYER_STONE과 COMPUTER_STONE 변수에 넣어 사용함\n",
        "PLAYER_STONE = 'O'\n",
        "COMPUTER_STONE = 'X'\n",
        "\n",
        "#게임에 관해 안내한다.\n",
        "def printInfo():\n",
        "\tprint(\"[Player-Computer Version]\")\n",
        "\tprint(\"틱택토(tic-tac-toe) 두 명이 번갈아가며 'O'와 'X'를 3×3 판에 써서 같은 글자를 가로, 세로, 혹은 대각선 상에 놓이도록 하는 놀이입니다.\")\n",
        "\tprint(\"플레이어는 'O', 컴퓨터는 'X'를 사용합니다.\")\n",
        "\tprint(\"위치 선택은 아래와 같이 키보드의 숫자 키패드를 이용하세요.\")\n",
        "\tprint(\"---------\")\n",
        "\tprint(\"| 7 8 9 |\")\n",
        "\tprint(\"| 4 5 6 |\")\n",
        "\tprint(\"| 1 2 3 |\")\n",
        "\tprint(\"---------\")\n",
        "\n",
        "\n",
        "#보드의 내용을 화면에 출력한다.\n",
        "def drawBoard(board):\n",
        "\tprint(\"---------\")\n",
        "\tprint(\"|\", board[7], board[8], board[9], \"|\")\n",
        "\tprint(\"|\", board[4], board[5], board[6], \"|\")\n",
        "\tprint(\"|\", board[1], board[2], board[3], \"|\")\n",
        "\tprint(\"---------\")  \n",
        "\n",
        "\t\n",
        "#누가 먼저 시작할지 랜덤하게 정하고, 정해진 순서('O' 또는 'X')를 리턴한다.\n",
        "def whoIsFirst():\n",
        "\tfirst = '''@@@@@@@@@@'''\n",
        "\n",
        "\tif first == PLAYER_STONE:\n",
        "\t\tprint(\"플레이어부터 시작합니다.\")\n",
        "\telse:\n",
        "\t\tprint(\"컴퓨터부터 시작합니다.\")\n",
        "\treturn first\n",
        "\n",
        "\n",
        "#플레이어로부터 위치를 입력받는다.\n",
        "def getPlayerMove(board, stone):\n",
        "\twhile True:\n",
        "\t\tinData = input('위치를 선택하세요. ')\n",
        "\t\tif len(inData) == 1 and '1' <= inData <= '9':\n",
        "\t\t\tpos = int(inData)  \n",
        "\t\t\tif board[pos] == '-':\n",
        "\t\t\t\tboard[pos] = stone\n",
        "\t\t\t\tbreak\n",
        "\t\tprint('잘못 선택하셨습니다. 비어있는 칸을 숫자로 입력하세요.')\n",
        "\t\t\n",
        "\t\t\n",
        "#컴퓨터가 위치를 선택하게 한다.\n",
        "def getComputerMove(board, stone):\n",
        "\tprint('컴퓨터가 둡니다.')\n",
        "\t\n",
        "\t#컴퓨터가 두면 이길 위치를 찾아둔다.\n",
        "\tfor i in range(1, 10):\n",
        "\t\tif board[i] == '-':\n",
        "\t\t\tcopyBoard = board[:]\n",
        "\t\t\tcopyBoard[i] = COMPUTER_STONE\n",
        "\t\t\tif isWinner(copyBoard, COMPUTER_STONE):\n",
        "\t\t\t\tboard[i] = COMPUTER_STONE\n",
        "\t\t\t\treturn\n",
        "\t\t\t\n",
        "\t#플레이어가 두면 이길 위치를 찾아둔다.\n",
        "\tfor i in range(1, 10):\n",
        "\t\tif board[i] == '-':\n",
        "\t\t\tcopyBoard = board[:]\n",
        "\t\t\tcopyBoard[i] = PLAYER_STONE\n",
        "\t\t\tif isWinner(copyBoard, PLAYER_STONE):\n",
        "\t\t\t\tboard[i] = COMPUTER_STONE\n",
        "\t\t\t\treturn\n",
        "\t\n",
        "\t#앞에서부터 빈자리를 찾아 둡니다.\n",
        "\tfor i in range(1, 10):\n",
        "\t\tif board[i] == '-':\n",
        "\t\t\tboard[i] = stone\n",
        "\t\t\tbreak\n",
        "\t\t\t\n",
        "\n",
        "#보드에 놓여진 돌의 개수를 리턴한다.\n",
        "def numberOfStone(board):\n",
        "\tn = 0\n",
        "\tfor c in board:\n",
        "\t\tif c != '-':\n",
        "\t\t\tn = n + 1\n",
        "\treturn n\n",
        "\t\n",
        "\n",
        "#보드에서 stone('O' 또는 'X')가 연속해서 3개 놓여졌는지 여부(True 또는 False)를 리턴한다.\n",
        "def isWinner(board, stone):\n",
        "\t\n",
        "\t#가로 세 행 확인\n",
        "\tfor i in [1, 4, 7]:\n",
        "\t\tif board[i] == stone and board[i + 1] == stone and board[i + 2] == stone:\n",
        "\t\t\treturn True\n",
        "\t\t\n",
        "\t#세로 세 열 확인\n",
        "\tfor i in [1, 2, 3]:\n",
        "\t\tif board[i] == stone and board[i + 3] == stone and board[i + 6] == stone:\n",
        "\t\t\treturn True\n",
        "\t\n",
        "\t#대각선(오른쪽 위에서 왼쪽 아래)\n",
        "\tif board[1] == stone and board[5] == stone and board[9] == stone:\n",
        "\t\treturn True\n",
        "\t\n",
        "\t#대각선(왼쪽 위에서 오른쪽 아래)\n",
        "\tif board[7] == stone and board[5] == stone and board[3] == stone:\n",
        "\t\treturn True\n",
        "\t\n",
        "\treturn False\n",
        "\n",
        "\n",
        "#틱택토 1게임을 진행합니다.\n",
        "def ticTacToe():\n",
        "\t\n",
        "\t#빈 틱택토 보드를 표현하기 위해서 '-'로 10개의 요소를 채운 리스트를 만듭니다.\n",
        "\t#위치 정보와 리스트의 인덱스를 일치시키기 위해 10개의 요소를 채우고, 이후에 맨 앞(인덱스 0) 요소는 사용하지 않습니다.\n",
        "\ttttBoard = ['-'] * 10\n",
        "\n",
        "\tdrawBoard(tttBoard)\n",
        "\n",
        "\tcurrentStone = '''@@@@@@@@@@'''\n",
        "\n",
        "\twhile True:\n",
        "\t\tif currentStone == PLAYER_STONE:\n",
        "\t\t\tgetPlayerMove(tttBoard, PLAYER_STONE)  \n",
        "\t\t\tdrawBoard(tttBoard)\n",
        "\t\t\t\n",
        "\t\t\tif isWinner(tttBoard, PLAYER_STONE):\n",
        "\t\t\t\tprint(\"축하합니다. 당신이 이겼어요!\")\n",
        "\t\t\t\treturn PLAYER_STONE\n",
        "\t\t\t\n",
        "\t\t\tcurrentStone = COMPUTER_STONE\n",
        "\t\t\t\n",
        "\t\t'''@@@@@@@@@@'''\n",
        "\t\t\n",
        "\t\tif numberOfStone(tttBoard) >= 9:\n",
        "\t\t\tprint(\"비겼습니다.\")\n",
        "\t\t\treturn '-'\n",
        "\n",
        "\n",
        "printInfo()\n",
        "\n",
        "resultList = []\n",
        "\n",
        "while True:\n",
        "\tresult = ticTacToe()\n",
        "\tresultList.append(result)\n",
        "\t\n",
        "\tisContinued = input(\"한 게임 더 진행할까요?(y/n) \")\n",
        "\tif isContinued == 'n':\n",
        "\t\tbreak\n",
        "\n",
        "print('\\n[게임 전적]')\n",
        "print(resultList.count(PLAYER_STONE), '승 ', resultList.count('-'), '무 ', resultList.count(COMPUTER_STONE), '패', sep = '')"
      ],
      "metadata": {
        "id": "EB92YwB7qaYX"
      },
      "execution_count": null,
      "outputs": []
    }
  ]
}