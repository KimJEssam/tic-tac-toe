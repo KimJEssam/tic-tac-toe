{
  "nbformat": 4,
  "nbformat_minor": 0,
  "metadata": {
    "colab": {
      "provenance": [],
      "authorship_tag": "ABX9TyMIYcVE0HpZiUlVGumIv9RB",
      "include_colab_link": true
    },
    "kernelspec": {
      "name": "python3",
      "display_name": "Python 3"
    },
    "language_info": {
      "name": "python"
    }
  },
  "cells": [
    {
      "cell_type": "markdown",
      "metadata": {
        "id": "view-in-github",
        "colab_type": "text"
      },
      "source": [
        "<a href=\"https://colab.research.google.com/github/KimJEssam/tic-tac-toe/blob/main/06_%ED%8B%B1%ED%83%9D%ED%86%A0.ipynb\" target=\"_parent\"><img src=\"https://colab.research.google.com/assets/colab-badge.svg\" alt=\"Open In Colab\"/></a>"
      ]
    },
    {
      "cell_type": "markdown",
      "source": [
        "#**Stage6. 믿지 못할 플레이어의 선택**\n",
        "---\n",
        "\n",
        "\n",
        "<img src=\"https://github.com/KimJEssam/firstTest/blob/f7558fe830e54b8c91c776d9e82c19a26ec48d7b/%EB%B9%84%EB%94%94%EC%98%A4%EA%B2%8C%EC%9E%84%EC%9D%84%20%EC%82%AC%EC%A7%80%EB%A7%8C%20%EB%A7%90%EA%B3%A0.png?raw=true\" width=300>"
      ],
      "metadata": {
        "id": "uprygpfSFQLi"
      }
    },
    {
      "cell_type": "markdown",
      "source": [
        "플레이어는 보드의 위치를 키보드로 입력합니다. 숫자 키패드를 이용해서 안내에 따라 빈칸을 선택해야 하지만, 빈칸을 선택하지 않을 수도 있습니다. 플레이어가 잘못 선택한 경우, 적절한 메시지를 보여주고 다시 선택할 수 있도록 해볼까요?\n",
        "\n",
        "---\n",
        "\n"
      ],
      "metadata": {
        "id": "lT6hDlrfHg7R"
      }
    },
    {
      "cell_type": "markdown",
      "source": [
        "**1. 연산자**"
      ],
      "metadata": {
        "id": "bwZRqyUyu7Sy"
      }
    },
    {
      "cell_type": "markdown",
      "source": [
        "조건식 뿐만 아니라 파이썬에서는 다양한 연산자를 사용할 수 있습니다. 꼭 알아야 할 연산자부터 살펴볼까요?"
      ],
      "metadata": {
        "id": "rUyYmosZu2HB"
      }
    },
    {
      "cell_type": "markdown",
      "source": [
        "* 산술연산자(우선순위 순)\n",
        "\n",
        "\n",
        "\n"
      ],
      "metadata": {
        "id": "Uwo1wJnPfuDi"
      }
    },
    {
      "cell_type": "markdown",
      "source": [
        "<img src=\"https://github.com/KimJEssam/tic-tac-toe/blob/main/stage6-1.png?raw=true\" width=900>"
      ],
      "metadata": {
        "id": "XvMhAjZBfvNB"
      }
    },
    {
      "cell_type": "markdown",
      "source": [
        "* 비교연산자\n",
        "\n"
      ],
      "metadata": {
        "id": "U6IUY1Prf4pp"
      }
    },
    {
      "cell_type": "markdown",
      "source": [
        "<img src=\"https://github.com/KimJEssam/tic-tac-toe/blob/main/stage6-2.png?raw=true\" width=900>"
      ],
      "metadata": {
        "id": "5sHjQXTzn2ov"
      }
    },
    {
      "cell_type": "markdown",
      "source": [
        "* 논리연산자(우선순위 순)"
      ],
      "metadata": {
        "id": "d6D1Oh5Mn78r"
      }
    },
    {
      "cell_type": "markdown",
      "source": [
        "<img src=\"https://github.com/KimJEssam/tic-tac-toe/blob/main/stage6-3.png?raw=true\" width=900>"
      ],
      "metadata": {
        "id": "rNG8pWiWn-kv"
      }
    },
    {
      "cell_type": "markdown",
      "source": [
        "*실행 결과를 확인해 보세요!*"
      ],
      "metadata": {
        "id": "8LBJ8c_vgC6i"
      }
    },
    {
      "cell_type": "code",
      "source": [
        "x = 7\n",
        "y = 3\n",
        "\n",
        "print(-x, x ** y, x * y, x / y, x // y, x % y, x + y, x - y)\n",
        "print(x < y, x >= y, x == y, x != y)\n",
        "print(x < y and x - 5 > 0, x < y or x - 5 > 0)"
      ],
      "metadata": {
        "id": "dg3zWNSdf23v"
      },
      "execution_count": null,
      "outputs": []
    },
    {
      "cell_type": "markdown",
      "source": [
        "연산자는 우선순위에 따라 계산됩니다. 지금까지 배운 연산자들 사이 연산 순위는 아래와 같습니다."
      ],
      "metadata": {
        "id": "K1RzIo8TS34g"
      }
    },
    {
      "cell_type": "markdown",
      "source": [
        "<img src=\"https://github.com/KimJEssam/tic-tac-toe/blob/main/stage6-4.png?raw=true\" width=400>"
      ],
      "metadata": {
        "id": "YiPJydDWgRBw"
      }
    },
    {
      "cell_type": "markdown",
      "source": [
        "---\n",
        "**2. 문자열 연산**\n"
      ],
      "metadata": {
        "id": "0M2DZy0GgS0B"
      }
    },
    {
      "cell_type": "markdown",
      "source": [
        "문자열도 연산이 가능합니다. 많이 사용하는 문자열 연산자와 함수를 알아봅시다."
      ],
      "metadata": {
        "id": "eApX297Cg29e"
      }
    },
    {
      "cell_type": "markdown",
      "source": [
        "<img src=\"https://github.com/KimJEssam/tic-tac-toe/blob/main/stage6-5.png?raw=true\" width=900>"
      ],
      "metadata": {
        "id": "v5mRfct_g3qO"
      }
    },
    {
      "cell_type": "markdown",
      "source": [
        "숫자뿐만 아니라 문자열도 비교 연산이 가능합니다. 아래 예제를 실행해보세요."
      ],
      "metadata": {
        "id": "hwZLS4W_hD7m"
      }
    },
    {
      "cell_type": "code",
      "source": [
        "inData = input('소문자 한 글자를 입력하세요. ')\n",
        "if len(inData) == 1 and 'a' <= inData <= 'z':\n",
        "\tprint('잘 입력했습니다.')\n",
        "else:\n",
        "\tprint('음...')"
      ],
      "metadata": {
        "id": "MNrbDm8xo31J"
      },
      "execution_count": null,
      "outputs": []
    },
    {
      "cell_type": "markdown",
      "source": [
        "학습한 내용을 참고해서 Stage5 프로그램에 플레이어의 입력을 검증하는 기능을 추가해보세요."
      ],
      "metadata": {
        "id": "ToYsx8FdvlJe"
      }
    },
    {
      "cell_type": "markdown",
      "source": [
        "**실습내용**"
      ],
      "metadata": {
        "id": "m38zS1A0xTJH"
      }
    },
    {
      "cell_type": "markdown",
      "source": [
        "틱택토 게임 개발 다섯 번째 단계입니다. 아래 설명과 실행 예시를 참고하여 코드를 완성하세요.\n",
        "\n",
        "1. 플레이어로부터 입력받는 기능을 함수로 정의해서 사용하며, 이 함수에서 잘못된 선택을 했는지 검증하는 과정을 추가합니다. \n",
        "2. 1번 이외의 내용은 이전 스테이지와 동일합니다.\n",
        "\n",
        "\n",
        "\n",
        "\n"
      ],
      "metadata": {
        "id": "R2yZFMEoxYmt"
      }
    },
    {
      "cell_type": "markdown",
      "source": [
        "실행화면 예시"
      ],
      "metadata": {
        "id": "RqF5DCpPVTbM"
      }
    },
    {
      "cell_type": "markdown",
      "source": [
        "<img src =\"https://github.com/KimJEssam/tic-tac-toe/blob/main/stage6-6.png?raw=true\" width=900>\n",
        "<img src =\"https://github.com/KimJEssam/tic-tac-toe/blob/main/stage6-7.png?raw=true\" width=900>\n",
        "<img src =\"https://github.com/KimJEssam/tic-tac-toe/blob/main/stage6-8.png?raw=true\" width=900>"
      ],
      "metadata": {
        "id": "Df0VE96oierQ"
      }
    },
    {
      "cell_type": "markdown",
      "source": [
        "**프로그램** "
      ],
      "metadata": {
        "id": "-I9OK0atqmV5"
      }
    },
    {
      "cell_type": "markdown",
      "source": [
        "<img src =\"https://github.com/KimJEssam/tic-tac-toe/blob/main/stage6-9.png?raw=true\" width=1024>\n",
        "<img src =\"https://github.com/KimJEssam/tic-tac-toe/blob/main/stage6-10.png?raw=true\" width=1024>"
      ],
      "metadata": {
        "id": "37bmyHkl0FXW"
      }
    },
    {
      "cell_type": "markdown",
      "source": [
        "실행예시를 참고해서 @@@@@@@@@@을 완성하세요.\n"
      ],
      "metadata": {
        "id": "e4kveHs9XikU"
      }
    },
    {
      "cell_type": "code",
      "source": [
        "#게임에 관해 안내한다.\n",
        "def printInfo():\n",
        "\tprint(\"[2-Player Version]\")\n",
        "\tprint(\"틱택토(tic-tac-toe)는 두 명이 번갈아가며 'O'와 'X'를 3×3 판에 써서 같은 글자를 가로, 세로, 혹은 대각선 상에 놓이도록 하는 놀이입니다.\")\n",
        "\tprint(\"위치 선택은 아래와 같이 키보드의 숫자 키패드를 이용하세요.\")\n",
        "\tprint(\"---------\")\n",
        "\tprint(\"| 7 8 9 |\")\n",
        "\tprint(\"| 4 5 6 |\")\n",
        "\tprint(\"| 1 2 3 |\")\n",
        "\tprint(\"---------\")\n",
        "\tprint(\"게임을 시작합니다.\")\n",
        "\n",
        "\n",
        "#보드의 내용을 화면에 출력한다.\n",
        "def drawBoard(board):\n",
        "\tprint(\"---------\")\n",
        "\tprint(\"|\", board[7], board[8], board[9], \"|\")\n",
        "\tprint(\"|\", board[4], board[5], board[6], \"|\")\n",
        "\tprint(\"|\", board[1], board[2], board[3], \"|\")\n",
        "\tprint(\"---------\")  \n",
        "\n",
        "\n",
        "#플레이어(stone, 'O' 또는 'X')로부터 위치를 입력받아 틱택토보드(board)에 표시합니다.\n",
        "def getPlayerMove(board, stone):\n",
        "\twhile True:\n",
        "\t\tinData = input(stone + '님, 위치를 선택하세요. ')\n",
        "\t\tif '''@@@@@@@@@@''':\n",
        "\t\t\tpos = '''@@@@@@@@@@'''(inData)  #한 자리 숫자로 된 문자를 입력받았을 경우만 정수로 변환함\n",
        "\t\t\tif '''@@@@@@@@@@''':\n",
        "\t\t\t\tboard[pos] = stone\n",
        "\t\t\t\tbreak\n",
        "\t\tprint('잘못 선택하셨습니다. 비어있는 칸을 숫자로 입력하세요.')\n",
        "\n",
        "\n",
        "#보드에 놓여진 돌의 개수를 리턴한다.\n",
        "def numberOfStone(board):\n",
        "\tn = 0\n",
        "\tfor c in board:\n",
        "\t\tif c != '-':\n",
        "\t\t\tn = n + 1\n",
        "\treturn n\n",
        "\n",
        "\n",
        "#틱택토 1게임을 진행합니다.\n",
        "def ticTacToe():\n",
        "\tcurrentStone = 'O' #먼저 두는 사람이 'O', 뒤에 두는 사람이 'X'를 두는 것으로 정함\n",
        "\n",
        "\t#빈 틱택토 보드를 표현하기 위해서 '-'로 10개의 요소를 채운 리스트를 만듭니다.\n",
        "\t#위치 정보와 리스트의 인덱스를 일치시키기 위해 10개의 요소를 채우고, 이후에 맨 앞(인덱스 0) 요소는 사용하지 않습니다.\n",
        "\ttttBoard = ['-'] * 10\n",
        "\n",
        "\tprintInfo()\n",
        "\tdrawBoard(tttBoard)\n",
        "\n",
        "\twhile True:\n",
        "\t\tgetPlayerMove('''@@@@@@@@@@''')  \n",
        "\t\tdrawBoard(tttBoard)\n",
        "\t\t\n",
        "\t\tif numberOfStone(tttBoard) >= 9:\n",
        "\t\t\tbreak\n",
        "\n",
        "\t\tif currentStone == 'O':\n",
        "\t\t\tcurrentStone = 'X'\n",
        "\t\telse:\n",
        "\t\t\tcurrentStone = 'O'\n",
        "\n",
        "\n",
        "\n",
        "#틱택토 1게임 실행을 위해 함수를 호출합니다.\n",
        "ticTacToe()"
      ],
      "metadata": {
        "id": "EB92YwB7qaYX"
      },
      "execution_count": null,
      "outputs": []
    }
  ]
}