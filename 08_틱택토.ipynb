{
  "nbformat": 4,
  "nbformat_minor": 0,
  "metadata": {
    "colab": {
      "provenance": [],
      "authorship_tag": "ABX9TyNIQOMPmY3177cHEtdCrMS2",
      "include_colab_link": true
    },
    "kernelspec": {
      "name": "python3",
      "display_name": "Python 3"
    },
    "language_info": {
      "name": "python"
    }
  },
  "cells": [
    {
      "cell_type": "markdown",
      "metadata": {
        "id": "view-in-github",
        "colab_type": "text"
      },
      "source": [
        "<a href=\"https://colab.research.google.com/github/KimJEssam/tic-tac-toe/blob/main/08_%ED%8B%B1%ED%83%9D%ED%86%A0.ipynb\" target=\"_parent\"><img src=\"https://colab.research.google.com/assets/colab-badge.svg\" alt=\"Open In Colab\"/></a>"
      ]
    },
    {
      "cell_type": "markdown",
      "source": [
        "#**Stage8. 한 게임 더?**\n",
        "---\n",
        "\n",
        "\n",
        "<img src=\"https://github.com/KimJEssam/firstTest/blob/f7558fe830e54b8c91c776d9e82c19a26ec48d7b/%EC%9E%90%EB%8F%99%EC%B0%A8%EB%8A%94%20%EA%B8%B0%EB%A6%84%EC%9D%B4%20%EC%95%84%EB%8B%88%EB%9D%BC%20%EC%86%8C%ED%94%84%ED%8A%B8%EC%9B%A8%EC%96%B4%EB%A1%9C%20%EB%8B%AC%EB%A6%B0%EB%8B%A4.png?raw=true\" width=250>"
      ],
      "metadata": {
        "id": "uprygpfSFQLi"
      }
    },
    {
      "cell_type": "markdown",
      "source": [
        "2-Player 모드의 틱택토 게임은 이미 완벽하게 실행되는데 무엇을 더 해야 하냐구요? 이번 스테이지에서는 게임을 좀더 유연하게 진행할 수 있도록 지원해주려고 합니다. 게임을 여러 번 진행하고, 프로그램이 종료되는 시점에 그동안의 게임 전적을 출력해주는 기능을 추가 구현해봅시다.\n"
      ],
      "metadata": {
        "id": "lT6hDlrfHg7R"
      }
    },
    {
      "cell_type": "markdown",
      "source": [
        "이미 구현한 프로그램에서 ticTacToe 함수는 틱택토 게임 1번을 진행하는 함수입니다. 만약 메인 프로그램(함수 밖)에서 이 함수를 여러 번 호출하면 여러 게임을 진행할 수 있겠죠? ticTacToe 함수를 여러 번 반복 호출하고, 한 게임이 끝날 때마다 게임을 계속할지 선택할 수 있는 장치를 마련해야 합니다."
      ],
      "metadata": {
        "id": "261fRl2-LL_K"
      }
    },
    {
      "cell_type": "markdown",
      "source": [
        "또한, 모든 게임이 끝난 후 프로그램이 종료되기 전에 전체 게임 전적을 출력해주려면 각 게임의 전적을 어딘가 저장해두어야 합니다. 그래야 마지막에 한꺼번에 출력할 수 있겠죠. 기존 ticTacToe 게임의 리턴 값으로 게임 결과를 리턴받아 리스트에 저장해둘 겁니다."
      ],
      "metadata": {
        "id": "Bor5jJidLPEO"
      }
    },
    {
      "cell_type": "markdown",
      "source": [
        "ticTacToe 함수에서 비겼을 경우 '-'를, 승자가 있을 경우 승자의 돌('O' 또는 'X')를 리턴하고, 메인 프로그램에서 이 값을 리턴받아 리스트에 차곡차곡 저장해봅시다.\n",
        "\n",
        "---\n",
        "\n"
      ],
      "metadata": {
        "id": "q-vZVE3PLVcL"
      }
    },
    {
      "cell_type": "markdown",
      "source": [
        "**1. 함수 복습**"
      ],
      "metadata": {
        "id": "bwZRqyUyu7Sy"
      }
    },
    {
      "cell_type": "markdown",
      "source": [
        "리턴값이 있는 함수의 정의와 사용에 대해 복습해볼까요?"
      ],
      "metadata": {
        "id": "-DqbDYz4LgjE"
      }
    },
    {
      "cell_type": "markdown",
      "source": [
        "sumForPositive 함수는 음수가 입력되기 전까지 입력 받은 정수들의 누적합을 리턴하는 함수입니다. (단, 정수 이외의 값은 입력되지 않는다고 가정한 함수입니다.) 맨 아래 두 줄의 코드가 메인 프로그램에 해당하며, 리턴 받은 값을 변수 result에 저장했다가 출력하는 구문입니다."
      ],
      "metadata": {
        "id": "kuf8N2hgLku1"
      }
    },
    {
      "cell_type": "markdown",
      "source": [
        "*실행 결과를 확인해보세요!*"
      ],
      "metadata": {
        "id": "JIxj9ur0LpcL"
      }
    },
    {
      "cell_type": "markdown",
      "source": [
        "**2. 리스트 복습 및 심화**"
      ],
      "metadata": {
        "id": "3vOMFJBDLtKC"
      }
    },
    {
      "cell_type": "markdown",
      "source": [
        "지난 Stage4에서 리스트에 대해 학습했습니다. 몇 가지 추가 기능을 알고 있으면, 이번 스테이지의 프로그램에 리스트를 적용할 수 있습니다."
      ],
      "metadata": {
        "id": "IrFikBI4LzrC"
      }
    },
    {
      "cell_type": "markdown",
      "source": [
        "리스트는 모든 요소(값, 객체)를 채워서 생성할 수도 있지만 빈 리스트로 생성할 수도 있습니다. 리스트는 요소를 추가하거나 삭제할 수 있으므로 필요할 때마다 추가, 삭제를 하면 되겠죠."
      ],
      "metadata": {
        "id": "pH_AHc_tL2Zh"
      }
    },
    {
      "cell_type": "markdown",
      "source": [
        "*실행 결과를 확인해보세요!*"
      ],
      "metadata": {
        "id": "s0F8PJeNL6-D"
      }
    },
    {
      "cell_type": "code",
      "source": [
        "L = []\n",
        "while True:\n",
        "\tinData = input(\"무엇이든 입력하세요. 끝내려면 'q'를 입력하세요. \")\n",
        "\tif inData == 'q':\n",
        "\t\tbreak\n",
        "\tL.append(inData)\n",
        "\t\n",
        "print(len(L))\n",
        "for c in L:\n",
        "\tprint(c, end = ' ')"
      ],
      "metadata": {
        "id": "72O335CfLWwV"
      },
      "execution_count": null,
      "outputs": []
    },
    {
      "cell_type": "markdown",
      "source": [
        "위 예제 코드를 행 별로 설명하면 다음과 같습니다."
      ],
      "metadata": {
        "id": "rUyYmosZu2HB"
      }
    },
    {
      "cell_type": "markdown",
      "source": [
        "<img src=\"https://github.com/KimJEssam/tic-tac-toe/blob/main/stage8-1.png?raw=true\" width=900>\n",
        "\n",
        "\n",
        "\n"
      ],
      "metadata": {
        "id": "Uwo1wJnPfuDi"
      }
    },
    {
      "cell_type": "markdown",
      "source": [
        "함수와 리스트에 대한 추가 설명을 참고하여 2-Player 모드에서 추가할 마지막 기능을 구현해보세요!"
      ],
      "metadata": {
        "id": "xviNYKB0Bbzj"
      }
    },
    {
      "cell_type": "markdown",
      "source": [
        "**실습내용**"
      ],
      "metadata": {
        "id": "m38zS1A0xTJH"
      }
    },
    {
      "cell_type": "markdown",
      "source": [
        "틱택토 게임 개발 일곱 번째 단계입니다. 아래 설명과 실행 예시를 참고하여 코드를 완성하세요.\n",
        "\n",
        "1.   여러 게임을 진행할 수 있도록 매 게임이 끝날 때마다 게임을 계속 진행할지 묻는 과정을 추가합니다. \n",
        "2.  ticTacToe 함수가 결과를 리턴하도록 수정합니다. 비길 경우 문자열 '-'를 리턴하고, 승자가 있을 경우 승자의 돌('O' 또는 'X')을 리턴합니다.\n",
        "3.  프로그램을 종료하기 전에 모든 게임의 결과를 출력합니다. 이를 위해 ticTacToe 함수가 리턴한 결과를 결과 리스트에 저장해두도록 메인 프로그램을 수정해야 합니다.\n",
        "4.  1, 2번 이외의 내용은 이전 스테이지와 동일합니다.\n",
        "\n",
        "\n"
      ],
      "metadata": {
        "id": "R2yZFMEoxYmt"
      }
    },
    {
      "cell_type": "markdown",
      "source": [
        "실행화면 예시"
      ],
      "metadata": {
        "id": "RqF5DCpPVTbM"
      }
    },
    {
      "cell_type": "markdown",
      "source": [
        "<img src =\"https://github.com/KimJEssam/tic-tac-toe/blob/main/stage8-2.png?raw=true\" width=900>\n",
        "<img src =\"https://github.com/KimJEssam/tic-tac-toe/blob/main/stage8-3.png?raw=true\" width=900>\n",
        "<img src =\"https://github.com/KimJEssam/tic-tac-toe/blob/main/stage8-4.png?raw=true\" width=900>\n",
        "<img src =\"https://github.com/KimJEssam/tic-tac-toe/blob/main/stage8-5.png?raw=true\" width=900>\n",
        "<img src =\"https://github.com/KimJEssam/tic-tac-toe/blob/main/stage8-6.png?raw=true\" width=900>"
      ],
      "metadata": {
        "id": "Df0VE96oierQ"
      }
    },
    {
      "cell_type": "markdown",
      "source": [
        "**프로그램** "
      ],
      "metadata": {
        "id": "-I9OK0atqmV5"
      }
    },
    {
      "cell_type": "markdown",
      "source": [
        "<img src =\"https://github.com/KimJEssam/tic-tac-toe/blob/main/stage8-7.png?raw=true\" width=1024>\n",
        "<img src =\"https://github.com/KimJEssam/tic-tac-toe/blob/main/stage8-8.png?raw=true\" width=1024>\n",
        "<img src =\"https://github.com/KimJEssam/tic-tac-toe/blob/main/stage8-9.png?raw=true\" width=1024>\n",
        "<img src =\"https://github.com/KimJEssam/tic-tac-toe/blob/main/stage8-10.png?raw=true\" width=1024>"
      ],
      "metadata": {
        "id": "37bmyHkl0FXW"
      }
    },
    {
      "cell_type": "markdown",
      "source": [
        "실행예시를 참고해서 @@@@@@@@@@을 완성하세요.\n"
      ],
      "metadata": {
        "id": "e4kveHs9XikU"
      }
    },
    {
      "cell_type": "code",
      "source": [
        "#게임에 관해 안내한다.\n",
        "def printInfo():\n",
        "\tprint(\"[2-Player Version]\")\n",
        "\tprint(\"틱택토(tic-tac-toe)는 두 명이 번갈아가며 'O'와 'X'를 3×3 판에 써서 같은 글자를 가로, 세로, 혹은 대각선 상에 놓이도록 하는 놀이입니다.\")\n",
        "\tprint(\"위치 선택은 아래와 같이 키보드의 숫자 키패드를 이용하세요.\")\n",
        "\tprint(\"---------\")\n",
        "\tprint(\"| 7 8 9 |\")\n",
        "\tprint(\"| 4 5 6 |\")\n",
        "\tprint(\"| 1 2 3 |\")\n",
        "\tprint(\"---------\")\n",
        "\tprint(\"게임을 시작합니다.\")\n",
        "\n",
        "\n",
        "#보드의 내용을 화면에 출력한다.\n",
        "def drawBoard(board):\n",
        "\tprint(\"---------\")\n",
        "\tprint(\"|\", board[7], board[8], board[9], \"|\")\n",
        "\tprint(\"|\", board[4], board[5], board[6], \"|\")\n",
        "\tprint(\"|\", board[1], board[2], board[3], \"|\")\n",
        "\tprint(\"---------\")\n",
        "\n",
        "\n",
        "#플레이어로부터 위치를 입력받는다.\n",
        "def getPlayerMove(board, stone):\n",
        "\twhile True:\n",
        "\t\tinData = input(stone + '님, 위치를 선택하세요. ')\n",
        "\t\tif len(inData) == 1 and '1' <= inData <= '9':\n",
        "\t\t\tpos = int(inData)  \n",
        "\t\t\tif board[pos] == '-':\n",
        "\t\t\t\tboard[pos] = stone\n",
        "\t\t\t\tbreak\n",
        "\t\tprint('잘못 선택하셨습니다. 비어있는 칸을 숫자로 입력하세요.')\n",
        "\n",
        "\n",
        "#보드에 놓여진 돌의 개수를 리턴한다.\n",
        "def numberOfStone(board):\n",
        "\tn = 0\n",
        "\tfor c in board:\n",
        "\t\tif c != '-':\n",
        "\t\t\tn = n + 1\n",
        "\treturn n\n",
        "\n",
        "\n",
        "#보드에서 stone('O' 또는 'X')가 연속해서 3개 놓여졌는지 여부(True 또는 False)를 리턴한다.\n",
        "def isWinner(board, stone):\n",
        "\n",
        "\t#가로 세 행 확인\n",
        "\tfor i in [1, 4, 7]:\n",
        "\t\tif board[i] == stone and board[i + 1] == stone and board[i + 2] == stone:\n",
        "\t\t\treturn True\n",
        "\n",
        "\t#세로 세 열 확인\n",
        "\tfor i in [1, 2, 3]:\n",
        "\t\tif board[i] == stone and board[i + 3] == stone and board[i + 6] == stone:\n",
        "\t\t\treturn True\n",
        "\n",
        "\t#대각선(오른쪽 위에서 왼쪽 아래)\n",
        "\tif board[1] == stone and board[5] == stone and board[9] == stone:\n",
        "\t\treturn True\n",
        "\n",
        "\t#대각선(왼쪽 위에서 오른쪽 아래)\n",
        "\tif board[7] == stone and board[5] == stone and board[3] == stone:\n",
        "\t\treturn True\n",
        "\n",
        "\treturn False\n",
        "\n",
        "\n",
        "#틱택토 1게임을 진행합니다.\n",
        "def ticTacToe():\n",
        "\tcurrentStone = 'O' #먼저 두는 사람이 'O', 뒤에 두는 사람이 'X'를 두는 것으로 정함\n",
        "\n",
        "\t#빈 틱택토 보드를 표현하기 위해서 '-'로 10개의 요소를 채운 리스트를 만듭니다.\n",
        "\t#위치 정보와 리스트의 인덱스를 일치시키기 위해 10개의 요소를 채우고, 이후에 맨 앞(인덱스 0) 요소는 사용하지 않습니다.\n",
        "\ttttBoard = ['-'] * 10\n",
        "\n",
        "\tprintInfo()\n",
        "\tdrawBoard(tttBoard)\n",
        "\n",
        "\twhile True:\n",
        "\t\tgetPlayerMove(tttBoard, currentStone)  \n",
        "\t\tdrawBoard(tttBoard)\n",
        "\t\t\n",
        "\t\tif isWinner(tttBoard, currentStone):\n",
        "\t\t\tprint(\"'\" + currentStone + \"'가 이겼습니다.\")\n",
        "\t\t\treturn '''@@@@@@@@@@'''\n",
        "\t\t\t\n",
        "\t\tif numberOfStone(tttBoard) >= 9:\n",
        "\t\t\tprint(\"비겼습니다.\")\n",
        "\t\t\treturn '-'\n",
        "\t\t\t\n",
        "\t\tif currentStone == 'O':\n",
        "\t\t\tcurrentStone = 'X'\n",
        "\t\telse:\n",
        "\t\t\tcurrentStone = 'O'\n",
        "\n",
        "\t\t\t\n",
        "\t\t\t\n",
        "#게임 결과를 저장할 리스트를 빈 리스트로 생성합니다.\n",
        "resultList = []\n",
        "\n",
        "while True:\n",
        "\tresult = '''@@@@@@@@@@'''\n",
        "\tresultList.append('''@@@@@@@@@@''')\n",
        "\t\n",
        "\tisContinued = input(\"한 게임 더 진행할까요?(y/n) \")\n",
        "\t'''@@@@@@@@@@'''\n",
        "\n",
        "print('[게임 결과]')\n",
        "for i in range(len(resultList)):\n",
        "\tprint(i+1, ':', end = ' ')\n",
        "\tif '''@@@@@@@@@@''':\n",
        "\t\tprint(\"비김\")\n",
        "\telse:\n",
        "\t\tprint(resultList[i], '승')\t\t"
      ],
      "metadata": {
        "id": "EB92YwB7qaYX"
      },
      "execution_count": null,
      "outputs": []
    }
  ]
}