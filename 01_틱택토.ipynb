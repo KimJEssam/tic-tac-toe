{
  "nbformat": 4,
  "nbformat_minor": 0,
  "metadata": {
    "colab": {
      "provenance": [],
      "authorship_tag": "ABX9TyNQAQqnXFT+uOM5UycV9qhd",
      "include_colab_link": true
    },
    "kernelspec": {
      "name": "python3",
      "display_name": "Python 3"
    },
    "language_info": {
      "name": "python"
    }
  },
  "cells": [
    {
      "cell_type": "markdown",
      "metadata": {
        "id": "view-in-github",
        "colab_type": "text"
      },
      "source": [
        "<a href=\"https://colab.research.google.com/github/KimJEssam/tic-tac-toe/blob/main/01_%ED%8B%B1%ED%83%9D%ED%86%A0.ipynb\" target=\"_parent\"><img src=\"https://colab.research.google.com/assets/colab-badge.svg\" alt=\"Open In Colab\"/></a>"
      ]
    },
    {
      "cell_type": "markdown",
      "source": [
        "#**Stage1.우리의 도전은?**\n",
        "---\n",
        "\n",
        "\n",
        "<img src=\"https://github.com/KimJEssam/firstTest/blob/25602b4797c317c9d2e6524cdf4d797b81107f57/%EC%9E%90%EB%8F%99%EC%B0%A8%EB%8A%94%20%EA%B8%B0%EB%A6%84%EC%9D%B4%20%EC%95%84%EB%8B%88%EB%9D%BC%20%EC%86%8C%ED%94%84%ED%8A%B8%EC%9B%A8%EC%96%B4%EB%A1%9C%20%EB%8B%AC%EB%A6%B0%EB%8B%A4.png?raw=true\" width=300>"
      ],
      "metadata": {
        "id": "uprygpfSFQLi"
      }
    },
    {
      "cell_type": "markdown",
      "source": [
        "틱택토 게임이 무엇인지 궁금하시다구요?"
      ],
      "metadata": {
        "id": "lT6hDlrfHg7R"
      }
    },
    {
      "cell_type": "markdown",
      "source": [
        "<img src=\"https://github.com/KimJEssam/tic-tac-toe/blob/main/stage1-1.png?raw=true\" width=600>"
      ],
      "metadata": {
        "id": "s8Ork57LGbI5"
      }
    },
    {
      "cell_type": "markdown",
      "source": [
        "아래 링크를 클릭해서 직접 틱택토 게임을 해보세요. 게임을 여러 번 진행하면서 이길 수 있는 전략을 미리 구상해두면 틱택토 게임을 구현할 때 도움됩니다."
      ],
      "metadata": {
        "id": "2tIsZs9lRkUg"
      }
    },
    {
      "cell_type": "markdown",
      "source": [
        "[Tic-Tac-Toe 게임 해보기](https://www.google.com/search?q=tictactoe&rlz=1C1CAFC_enKR856KR856&oq=tictactoe&aqs=chrome..69i57j0l7.5544j0j8&sourceid=chrome&ie=UTF-8)"
      ],
      "metadata": {
        "id": "WC9L-MoEo0lK"
      }
    },
    {
      "cell_type": "markdown",
      "source": [
        "가장 먼저 살펴 볼 개념은 '출력'입니다. 게임에 대한 안내를 화면에 출력하기 위해  print 함수를 사용할 수 있습니다. 코드 형식은 print(출력할 내용) 과 같이 사용합니다. 출력할 내용에는 문자열, 정수, 실수 등을 넣을 수 있습니다. 실행결과를 확인해 보세요!"
      ],
      "metadata": {
        "id": "9X5SenMRp4o2"
      }
    },
    {
      "cell_type": "code",
      "source": [
        "print('Tic-tac-toe')\n",
        "print(2019)\n",
        "print(3.1415)"
      ],
      "metadata": {
        "id": "u6TN6BewRlyj"
      },
      "execution_count": null,
      "outputs": []
    },
    {
      "cell_type": "markdown",
      "source": [
        "위의 코드에서 정수 2019, 실수 3.1415와는 달리 문자열 'Tic-tac-toe'는 작은 따옴표로 둘러싸여 있습니다. 파이썬에서 문자열은 다른 코드와 구분하기 위해 작은 따옴표나 큰 따옴표로 묶어주어야 한다는 점을 꼭 기억해주세요."
      ],
      "metadata": {
        "id": "OBFQGKKMqbH9"
      }
    },
    {
      "cell_type": "markdown",
      "source": [
        "**문자열 'Hello, Python!'을 출력하는 파이썬 코드를 작성해봅시다.** 단, 대소문자, 문장 부호 등을 정확히 입력해야 된다는 점 잊지 마세요."
      ],
      "metadata": {
        "id": "-I9OK0atqmV5"
      }
    },
    {
      "cell_type": "code",
      "source": [],
      "metadata": {
        "id": "EB92YwB7qaYX"
      },
      "execution_count": null,
      "outputs": []
    }
  ]
}